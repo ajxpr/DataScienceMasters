{
  "nbformat": 4,
  "nbformat_minor": 0,
  "metadata": {
    "colab": {
      "provenance": []
    },
    "kernelspec": {
      "name": "python3",
      "display_name": "Python 3"
    },
    "language_info": {
      "name": "python"
    }
  },
  "cells": [
    {
      "cell_type": "markdown",
      "source": [
        "# Assignment Topic: \n",
        "\n",
        "### Done By: Name"
      ],
      "metadata": {
        "id": "wDGlVKA53j4g"
      }
    },
    {
      "cell_type": "markdown",
      "source": [
        "**Question 1**: Write a program to accept percentage from the user and display the grade according to the following "
      ],
      "metadata": {
        "id": "tUqq_MrN3p9T"
      }
    },
    {
      "cell_type": "code",
      "source": [
        "marks = int(input(\"Enter Your Marks: \"))\n",
        "\n",
        "if marks >90:\n",
        "  print(\"Your Grade is 'A'!\")\n",
        "\n",
        "elif marks >80 and marks <=90:\n",
        "  print(\"Your Grade is 'B'!\")\n",
        "\n",
        "elif marks >=60 and marks <=80:\n",
        "  print(\"Your Grade is 'C'!\")  \n",
        "\n",
        "else: \n",
        "  marks <60\n",
        "  print(\"Your Grade is 'D'!\")"
      ],
      "metadata": {
        "id": "WXkYx5Aj3-yL",
        "colab": {
          "base_uri": "https://localhost:8080/"
        },
        "outputId": "3e55793d-ec12-4289-9d40-7ceb2f9353d3"
      },
      "execution_count": null,
      "outputs": [
        {
          "output_type": "stream",
          "name": "stdout",
          "text": [
            "Enter Your Marks: 10\n",
            "Your Grade is 'D'!\n"
          ]
        }
      ]
    },
    {
      "cell_type": "markdown",
      "source": [
        "**Question 2**: Write a program to accept the cost price of a bike and display the road tax to be paid according to the \n",
        "following criteria: "
      ],
      "metadata": {
        "id": "UggGCJWv32Vd"
      }
    },
    {
      "cell_type": "code",
      "source": [
        "bike_price = int(input(\"Enter the price of your bike: \"))\n",
        "\n",
        "if bike_price >100000:\n",
        "  tax_15 = 15/100 * bike_price\n",
        "  print(f\"The amount of tax you have to pay is: {tax_15}\")\n",
        "\n",
        "if bike_price >50000 and bike_price <=100000:\n",
        "  tax_10 = 10/100 * bike_price\n",
        "  print(f\"The amount of tax you have to pay is: {tax_10}\")\n",
        "\n",
        "else: \n",
        "  bike_price <=50000\n",
        "  tax_5 = 5/100 * bike_price\n",
        "  print(f\"The amount of tax you have to pay is: {tax_5}\")"
      ],
      "metadata": {
        "id": "IsgFzfqh35yq",
        "colab": {
          "base_uri": "https://localhost:8080/"
        },
        "outputId": "cc1cc1a0-62c3-430e-f663-8270b6b92e35"
      },
      "execution_count": null,
      "outputs": [
        {
          "output_type": "stream",
          "name": "stdout",
          "text": [
            "Enter the price of your bike: 40000\n",
            "The amount of tax you have to pay is: 2000.0\n"
          ]
        }
      ]
    },
    {
      "cell_type": "markdown",
      "source": [
        "**Question 3**: Accept any city from the user and display monuments of that city."
      ],
      "metadata": {
        "id": "1ejvEmWp32dV"
      }
    },
    {
      "cell_type": "code",
      "source": [
        "def display_monuments(city):\n",
        "    monuments = {\n",
        "        'Delhi': ['Red Fort'],\n",
        "        'Agra': ['Taj Mahal'],\n",
        "        'Jaipur': ['Jal Mahal']\n",
        "    }\n",
        "\n",
        "    city = city.capitalize()\n",
        "    if city in monuments:\n",
        "        print(f\"Monuments in {city}:\")\n",
        "        for monument in monuments[city]:\n",
        "            print(monument)\n",
        "\n",
        "city = input(\"Enter the name of your city from 1. Delhi, 2. Agra, 3. Jaipur: \")\n",
        "display_monuments(city)"
      ],
      "metadata": {
        "id": "63euDfdu37Do",
        "colab": {
          "base_uri": "https://localhost:8080/"
        },
        "outputId": "d7d69663-53f9-475e-dc17-7ad043766d1d"
      },
      "execution_count": null,
      "outputs": [
        {
          "output_type": "stream",
          "name": "stdout",
          "text": [
            "Enter the name of your city from 1. Delhi, 2. Agra, 3. Jaipur: Delhi\n",
            "Monuments in Delhi:\n",
            "Red Fort\n"
          ]
        }
      ]
    },
    {
      "cell_type": "markdown",
      "source": [
        "**Question 4**: Check how many times a given number can be divided by 3 before it is less than or equal to 10. \n"
      ],
      "metadata": {
        "id": "2YmJpW-H32hD"
      }
    },
    {
      "cell_type": "code",
      "source": [
        "def count_divisions(number):\n",
        "    count = 0\n",
        "    while number > 10:\n",
        "        number / 3\n",
        "        count += 1\n",
        "    return count\n",
        "\n",
        "number = int(input(\"Enter a number: \"))\n",
        "divisions = count_divisions(number)\n",
        "print(f\"The number can be divided by 3: {divisions} times, before it is less than or equal to 10.\")\n"
      ],
      "metadata": {
        "id": "_zlyXstv385X",
        "colab": {
          "base_uri": "https://localhost:8080/"
        },
        "outputId": "28c42128-a66e-4c13-a506-5fd2cb04079d"
      },
      "execution_count": null,
      "outputs": [
        {
          "output_type": "stream",
          "name": "stdout",
          "text": [
            "Enter a number: 9\n",
            "The number can be divided by 3: 0 times, before it is less than or equal to 10.\n"
          ]
        }
      ]
    },
    {
      "cell_type": "markdown",
      "source": [
        "**Question 5**: Why and When to Use while Loop in Python give a detailed description with example \n"
      ],
      "metadata": {
        "id": "RceIbI0J32k1"
      }
    },
    {
      "cell_type": "markdown",
      "source": [
        "The while loop in Python is used to repeatedly execute a block of code as long as a certain condition is true. It allows you to create a loop that continues until a specified condition is no longer met. Here's a detailed explanation of why and when to use a while loop in Python, along with an example:\n",
        "\n",
        "1. Repeated Execution: The primary use of a while loop is to perform repeated execution of a block of code. It is suitable when you want to repeat a specific task or set of tasks until a specific condition is met. \n",
        "\n",
        "2. Unknown Number of Iterations: while loops are useful when you don't know in advance how many times the loop will execute. The loop continues as long as the specified condition remains true, allowing for dynamic and flexible control flow.\n",
        "\n",
        "3. Condition-Based Termination: The while loop executes as long as the specified condition evaluates to True. The condition is checked before each iteration, and if it becomes False, the loop terminates. This allows you to control the termination of the loop based on specific criteria."
      ],
      "metadata": {
        "id": "eezoPMEvo28t"
      }
    },
    {
      "cell_type": "code",
      "source": [
        "number = int(input(\"Enter a positive number: \"))\n",
        "\n",
        "while number <= 0:\n",
        "  print(\"You entered:\", number)\n"
      ],
      "metadata": {
        "id": "Q86CeiPI39_r",
        "colab": {
          "base_uri": "https://localhost:8080/"
        },
        "outputId": "174d27bd-a787-4f50-82cc-532580b02e40"
      },
      "execution_count": 15,
      "outputs": [
        {
          "name": "stdout",
          "output_type": "stream",
          "text": [
            "Enter a positive number: 4\n"
          ]
        }
      ]
    },
    {
      "cell_type": "markdown",
      "source": [
        "**Question 6**: Use nested while loop to print 3 different pattern. "
      ],
      "metadata": {
        "id": "50tPH05f33WZ"
      }
    },
    {
      "cell_type": "code",
      "source": [
        "# Pattern 1\n",
        "\n",
        "row = 1\n",
        "while row <= 5:\n",
        "    col = 1\n",
        "    while col <= row:\n",
        "        print(col, end=\"\")\n",
        "        col += 1\n",
        "    print()\n",
        "    row += 1"
      ],
      "metadata": {
        "id": "RWauEGTv4Jnx",
        "colab": {
          "base_uri": "https://localhost:8080/"
        },
        "outputId": "3a84bb68-04ae-4fe3-9e1d-f94143d91ece"
      },
      "execution_count": 16,
      "outputs": [
        {
          "output_type": "stream",
          "name": "stdout",
          "text": [
            "1\n",
            "12\n",
            "123\n",
            "1234\n",
            "12345\n"
          ]
        }
      ]
    },
    {
      "cell_type": "code",
      "source": [
        "# Pattern 2\n",
        "\n",
        "row = 5\n",
        "while row >= 1:\n",
        "    col = 1\n",
        "    while col <= row:\n",
        "        print(\"*\", end=\"\")\n",
        "        col += 1\n",
        "    print()\n",
        "    row -= 1"
      ],
      "metadata": {
        "colab": {
          "base_uri": "https://localhost:8080/"
        },
        "id": "8VT-fZwrppx4",
        "outputId": "c3846551-2276-4c57-8e66-2b8a675a875d"
      },
      "execution_count": 17,
      "outputs": [
        {
          "output_type": "stream",
          "name": "stdout",
          "text": [
            "*****\n",
            "****\n",
            "***\n",
            "**\n",
            "*\n"
          ]
        }
      ]
    },
    {
      "cell_type": "code",
      "source": [
        "# Pattern 3\n",
        "\n",
        "row = 1\n",
        "while row <= 5:\n",
        "    col = 1\n",
        "    while col <= row:\n",
        "        print(row, end=\"\")\n",
        "        col += 1\n",
        "    print()\n",
        "    row += 1"
      ],
      "metadata": {
        "colab": {
          "base_uri": "https://localhost:8080/"
        },
        "id": "lsD31ZRkpp8r",
        "outputId": "14adb6a5-49de-4591-ca48-e8f82ac6eb13"
      },
      "execution_count": 19,
      "outputs": [
        {
          "output_type": "stream",
          "name": "stdout",
          "text": [
            "1\n",
            "22\n",
            "333\n",
            "4444\n",
            "55555\n"
          ]
        }
      ]
    },
    {
      "cell_type": "markdown",
      "source": [
        "**Question 7**: Reverse a while loop to display numbers from 10 to 1."
      ],
      "metadata": {
        "id": "X6MoHwJ333g0"
      }
    },
    {
      "cell_type": "code",
      "source": [
        "num = 10\n",
        "while num >= 1:\n",
        "    print(num)\n",
        "    num -= 1"
      ],
      "metadata": {
        "id": "9BbPqdWE4OzT",
        "colab": {
          "base_uri": "https://localhost:8080/"
        },
        "outputId": "30c33dce-6445-477c-dca0-263a59e3e999"
      },
      "execution_count": 20,
      "outputs": [
        {
          "output_type": "stream",
          "name": "stdout",
          "text": [
            "10\n",
            "9\n",
            "8\n",
            "7\n",
            "6\n",
            "5\n",
            "4\n",
            "3\n",
            "2\n",
            "1\n"
          ]
        }
      ]
    }
  ]
}
