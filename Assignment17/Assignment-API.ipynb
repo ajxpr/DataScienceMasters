{
  "nbformat": 4,
  "nbformat_minor": 0,
  "metadata": {
    "colab": {
      "provenance": []
    },
    "kernelspec": {
      "name": "python3",
      "display_name": "Python 3"
    },
    "language_info": {
      "name": "python"
    }
  },
  "cells": [
    {
      "cell_type": "markdown",
      "source": [
        "# Assignment Topic: API\n",
        "\n",
        "### Done By: Akshaj Piri"
      ],
      "metadata": {
        "id": "wDGlVKA53j4g"
      }
    },
    {
      "cell_type": "markdown",
      "source": [
        "**Question 1**: What is an API? Give an example, where an API is used in real life."
      ],
      "metadata": {
        "id": "tUqq_MrN3p9T"
      }
    },
    {
      "cell_type": "markdown",
      "source": [
        "API stands for Application Programming Interface. It is a set of rules and protocols that allows different software applications to communicate and interact with each other. APIs define the methods, data formats, and rules for requesting and exchanging information between systems.\n",
        "\n",
        "In real life, APIs are used in various scenarios. One common example is when using a social media platform like Facebook. Facebook provides an API that allows developers to integrate their applications with Facebook's platform. This integration enables users to log in to the application using their Facebook credentials, share content from the application on their Facebook profile, and retrieve data from their Facebook account. The API defines the specific endpoints, parameters, and data formats required to interact with Facebook's platform."
      ],
      "metadata": {
        "id": "tNIE7DU6gRfN"
      }
    },
    {
      "cell_type": "markdown",
      "source": [
        "**Question 2**: Give advantages and disadvantages of using API."
      ],
      "metadata": {
        "id": "UggGCJWv32Vd"
      }
    },
    {
      "cell_type": "markdown",
      "source": [
        "Advantages of using APIs:\n",
        "\n",
        "1. **Easy Integration**: APIs provide a standardized way for different systems to communicate and integrate with each other. They simplify the process of connecting and exchanging data between applications, making it easier to leverage the functionalities of external services or platforms.\n",
        "\n",
        "2. **Increased Efficiency**: APIs allow developers to reuse existing functionalities instead of reinventing the wheel. By leveraging APIs, developers can save time and effort by utilizing pre-built solutions and focusing on their core business logic.\n",
        "\n",
        "3. **Scalability and Flexibility**: APIs enable applications to scale and adapt to changing needs. They provide a flexible interface for accessing and manipulating data, allowing applications to retrieve specific information or perform complex operations as required.\n",
        "\n"
      ],
      "metadata": {
        "id": "JUJBSoumgsYL"
      }
    },
    {
      "cell_type": "markdown",
      "source": [
        "Disadvantages of using APIs:\n",
        "\n",
        "1. **Dependency on External Services**: When relying on external APIs, applications become dependent on the availability and reliability of those services. If the API provider experiences downtime or makes changes to the API, it can impact the functionality of the dependent applications.\n",
        "\n",
        "2. **Security Risks**: APIs introduce potential security risks, especially when handling sensitive data. Poorly implemented or insecure APIs can be vulnerable to attacks such as unauthorized access, data breaches, or injection attacks. It is crucial to implement appropriate security measures when using APIs.\n",
        "\n",
        "3. **Lack of Control**: When using third-party APIs, developers have limited control over the functionality, performance, and updates of the API. Changes or deprecations in the API's features or terms of service may require adjustments in the dependent applications."
      ],
      "metadata": {
        "id": "Opyyfk10gsqJ"
      }
    },
    {
      "cell_type": "markdown",
      "source": [
        "**Question 3**: What is a Web API? Differentiate between API and Web API."
      ],
      "metadata": {
        "id": "1ejvEmWp32dV"
      }
    },
    {
      "cell_type": "markdown",
      "source": [
        "A Web API, also known as a Web Service, is an API specifically designed to be used over the internet using standard web protocols such as HTTP. It provides a way for web applications to interact with other web-based systems, services, or platforms by making HTTP requests and receiving responses in a specific format, such as JSON or XML."
      ],
      "metadata": {
        "id": "zFVV_sAGhRfO"
      }
    },
    {
      "cell_type": "markdown",
      "source": [
        "Difference between API and Web API:\n",
        "\n",
        "1. **Scope**: APIs can be used for various types of applications, including desktop applications, mobile apps, embedded systems, etc. They are not limited to web-based applications. On the other hand, Web APIs are specifically designed for web-based applications to interact with other web services or systems.\n",
        "\n",
        "2. **Communication Protocol**: APIs can use different communication protocols, such as HTTP, TCP/IP, SOAP, REST, etc. They are not limited to web protocols. Web APIs, as the name suggests, use web protocols like HTTP to facilitate communication over the internet.\n",
        "\n",
        "3. **Access Method**: APIs can be accessed through various means, including libraries, SDKs, command-line tools, etc. Web APIs are typically accessed through HTTP requests using standard methods like GET, POST, PUT, DELETE, etc."
      ],
      "metadata": {
        "id": "uQ8lrrEThRvI"
      }
    },
    {
      "cell_type": "markdown",
      "source": [
        "**Question 4**: Explain REST and SOAP Architecture. Mention shortcomings of SOAP."
      ],
      "metadata": {
        "id": "2YmJpW-H32hD"
      }
    },
    {
      "cell_type": "markdown",
      "source": [
        "**REST (Representational State Transfer)** Architecture:\n",
        "\n",
        "- REST is an architectural style that emphasizes scalability, simplicity, and the statelessness of the communication between client and server.\n",
        "- It is based on the principles of using standard HTTP methods (GET, POST, PUT, DELETE) for different operations on resources identified by URLs (Uniform Resource Locators).\n",
        "- RESTful APIs use HTTP as the communication protocol and commonly return responses in JSON or XML formats.\n",
        "\n",
        "\n",
        "**SOAP (Simple Object Access Protocol)** Architecture:\n",
        "\n",
        "- SOAP is a protocol for exchanging structured information in web services using XML as the data format.\n",
        "- It defines a set of rules for communication between applications over a network, typically using HTTP, SMTP, or other transport protocols.\n",
        "- SOAP messages are XML-based and can be transported over various protocols, including HTTP, SMTP, and others.\n",
        "\n",
        "\n",
        "\n",
        "**Shortcomings of SOAP**:\n",
        "\n",
        "1. **Complexity**: SOAP has a complex message structure and requires more bandwidth due to its XML-based format.\n",
        "\n",
        "2. **Overhead**: SOAP involves additional overhead due to its extensive XML structure, including header information, namespaces, and tags.\n",
        "\n",
        "3. **Performance**: SOAP is generally considered slower than REST due to its additional processing and message structure complexity. \n",
        "\n",
        "\n",
        "\n"
      ],
      "metadata": {
        "id": "7QjuU9mPhl7Y"
      }
    },
    {
      "cell_type": "markdown",
      "source": [
        "**Question 5**: Differentiate between REST and SOAP."
      ],
      "metadata": {
        "id": "RceIbI0J32k1"
      }
    },
    {
      "cell_type": "markdown",
      "source": [
        "The key differences between REST and SOAP are:\n",
        "\n",
        "**Communication Protocol**:\n",
        "- REST: RESTful APIs use standard HTTP methods (GET, POST, PUT, DELETE) for communication between client and server.\n",
        "- SOAP: SOAP can use various protocols for communication, including HTTP, SMTP, and others.\n",
        "\n",
        "**Data Format**:\n",
        "- REST: RESTful APIs commonly use JSON (JavaScript Object Notation) or XML (eXtensible Markup Language) as the data format for payload.\n",
        "- SOAP: SOAP uses XML as the data format for messages.\n",
        "\n",
        "**Message Structure**:\n",
        "- REST: REST follows a stateless model where each request is independent and self-contained.\n",
        "- SOAP: SOAP messages are structured and can include header information, namespaces, and XML tags."
      ],
      "metadata": {
        "id": "5NXaiqqUiWiw"
      }
    }
  ]
}