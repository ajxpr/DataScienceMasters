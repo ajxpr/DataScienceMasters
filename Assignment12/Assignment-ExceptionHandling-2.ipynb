{
  "nbformat": 4,
  "nbformat_minor": 0,
  "metadata": {
    "colab": {
      "provenance": []
    },
    "kernelspec": {
      "name": "python3",
      "display_name": "Python 3"
    },
    "language_info": {
      "name": "python"
    }
  },
  "cells": [
    {
      "cell_type": "markdown",
      "source": [
        "# Assignment Topic: Exception Handling-2\n",
        "\n",
        "### Done By: Akshaj Piri"
      ],
      "metadata": {
        "id": "wDGlVKA53j4g"
      }
    },
    {
      "cell_type": "markdown",
      "source": [
        "**Question 1**: Explain why we have to use the Exception class while creating a Custom Exception.\n",
        "\n",
        "Note: Here Exception class refers to the base class for all the exceptions."
      ],
      "metadata": {
        "id": "tUqq_MrN3p9T"
      }
    },
    {
      "cell_type": "markdown",
      "source": [
        "In Python, the Exception class serves as the base class for all built-in and custom exceptions. When creating a custom exception, it is important to inherit from the Exception class to ensure that the custom exception inherits all the properties and behaviors of the base Exception class."
      ],
      "metadata": {
        "id": "z6nV5V8U543U"
      }
    },
    {
      "cell_type": "markdown",
      "source": [
        "**Question 2**: Write a python program to print Python Exception Hierarchy."
      ],
      "metadata": {
        "id": "UggGCJWv32Vd"
      }
    },
    {
      "cell_type": "code",
      "source": [
        "def print_exception_hierarchy(exception_class, indent=0):\n",
        "    print(' ' * indent + exception_class.__name__)\n",
        "    for subclass in exception_class.__subclasses__():\n",
        "        print_exception_hierarchy(subclass, indent + 4)\n",
        "\n",
        "print_exception_hierarchy(Exception)"
      ],
      "metadata": {
        "id": "IsgFzfqh35yq",
        "colab": {
          "base_uri": "https://localhost:8080/"
        },
        "outputId": "cf560226-f923-4e7f-9699-d54d3ff700cd"
      },
      "execution_count": 1,
      "outputs": [
        {
          "output_type": "stream",
          "name": "stdout",
          "text": [
            "Exception\n",
            "    TypeError\n",
            "        MultipartConversionError\n",
            "        FloatOperation\n",
            "        UFuncTypeError\n",
            "            UFuncTypeError\n",
            "            UFuncTypeError\n",
            "            UFuncTypeError\n",
            "                UFuncTypeError\n",
            "                UFuncTypeError\n",
            "        ConversionError\n",
            "    StopAsyncIteration\n",
            "    StopIteration\n",
            "    ImportError\n",
            "        ModuleNotFoundError\n",
            "            PackageNotFoundError\n",
            "        ZipImportError\n",
            "    OSError\n",
            "        ConnectionError\n",
            "            BrokenPipeError\n",
            "            ConnectionAbortedError\n",
            "            ConnectionRefusedError\n",
            "            ConnectionResetError\n",
            "                RemoteDisconnected\n",
            "        BlockingIOError\n",
            "        ChildProcessError\n",
            "        FileExistsError\n",
            "        FileNotFoundError\n",
            "            ExecutableNotFoundError\n",
            "        IsADirectoryError\n",
            "        NotADirectoryError\n",
            "        InterruptedError\n",
            "            InterruptedSystemCall\n",
            "        PermissionError\n",
            "        ProcessLookupError\n",
            "        TimeoutError\n",
            "        UnsupportedOperation\n",
            "        itimer_error\n",
            "        Error\n",
            "            SameFileError\n",
            "        SpecialFileError\n",
            "        ExecError\n",
            "        ReadError\n",
            "        herror\n",
            "        gaierror\n",
            "        SSLError\n",
            "            SSLCertVerificationError\n",
            "            SSLZeroReturnError\n",
            "            SSLWantWriteError\n",
            "            SSLWantReadError\n",
            "            SSLSyscallError\n",
            "            SSLEOFError\n",
            "        URLError\n",
            "            HTTPError\n",
            "            ContentTooShortError\n",
            "        BadGzipFile\n",
            "        ProxyError\n",
            "            GeneralProxyError\n",
            "            ProxyConnectionError\n",
            "            SOCKS5AuthError\n",
            "            SOCKS5Error\n",
            "            SOCKS4Error\n",
            "            HTTPError\n",
            "        UnidentifiedImageError\n",
            "    EOFError\n",
            "        IncompleteReadError\n",
            "    RuntimeError\n",
            "        RecursionError\n",
            "        NotImplementedError\n",
            "            StdinNotImplementedError\n",
            "            ZMQVersionError\n",
            "        _DeadlockError\n",
            "        BrokenBarrierError\n",
            "        BrokenExecutor\n",
            "            BrokenThreadPool\n",
            "        SendfileNotAvailableError\n",
            "        RemovedCommandError\n",
            "        PackageDiscoveryError\n",
            "        TooHardError\n",
            "        ExtractionError\n",
            "        VariableError\n",
            "    NameError\n",
            "        UnboundLocalError\n",
            "    AttributeError\n",
            "        FrozenInstanceError\n",
            "    SyntaxError\n",
            "        IndentationError\n",
            "            TabError\n",
            "        ParseError\n",
            "    LookupError\n",
            "        IndexError\n",
            "            AxisError\n",
            "            OutOfBounds\n",
            "        KeyError\n",
            "            UnknownBackend\n",
            "            NoSuchKernel\n",
            "        CodecRegistryError\n",
            "    ValueError\n",
            "        UnicodeError\n",
            "            UnicodeEncodeError\n",
            "            UnicodeDecodeError\n",
            "            UnicodeTranslateError\n",
            "        UnsupportedOperation\n",
            "        JSONDecodeError\n",
            "        UnsupportedDigestmodError\n",
            "        Error\n",
            "        ClassNotFound\n",
            "        SSLCertVerificationError\n",
            "        ClipboardEmpty\n",
            "        MessageDefect\n",
            "            NoBoundaryInMultipartDefect\n",
            "            StartBoundaryNotFoundDefect\n",
            "            CloseBoundaryNotFoundDefect\n",
            "            FirstHeaderLineIsContinuationDefect\n",
            "            MisplacedEnvelopeHeaderDefect\n",
            "            MissingHeaderBodySeparatorDefect\n",
            "            MultipartInvariantViolationDefect\n",
            "            InvalidMultipartContentTransferEncodingDefect\n",
            "            UndecodableBytesDefect\n",
            "            InvalidBase64PaddingDefect\n",
            "            InvalidBase64CharactersDefect\n",
            "            InvalidBase64LengthDefect\n",
            "            HeaderDefect\n",
            "                InvalidHeaderDefect\n",
            "                HeaderMissingRequiredValue\n",
            "                NonPrintableDefect\n",
            "                ObsoleteHeaderDefect\n",
            "                NonASCIILocalPartDefect\n",
            "                InvalidDateDefect\n",
            "        IllegalMonthError\n",
            "        IllegalWeekdayError\n",
            "        MacroToEdit\n",
            "        ParserError\n",
            "        UnequalIterablesError\n",
            "        ELFInvalid\n",
            "        InvalidVersion\n",
            "        InvalidWheelFilename\n",
            "        InvalidSdistFilename\n",
            "        InvalidSpecifier\n",
            "        InvalidMarker\n",
            "        UndefinedComparison\n",
            "        UndefinedEnvironmentName\n",
            "        InvalidRequirement\n",
            "        DisabledFunctionError\n",
            "        AxisError\n",
            "        InvalidVersion\n",
            "        DefusedXmlException\n",
            "            DTDForbidden\n",
            "            EntitiesForbidden\n",
            "            ExternalReferenceForbidden\n",
            "            NotSupportedError\n",
            "        NonIntersectingPathException\n",
            "        InvalidFileException\n",
            "        UnequalIterablesError\n",
            "        InvalidVersion\n",
            "        ELFInvalid\n",
            "        InvalidWheelFilename\n",
            "        InvalidSdistFilename\n",
            "        InvalidSpecifier\n",
            "        InvalidMarker\n",
            "        UndefinedComparison\n",
            "        UndefinedEnvironmentName\n",
            "        InvalidRequirement\n",
            "            RequirementParseError\n",
            "    AssertionError\n",
            "    ArithmeticError\n",
            "        FloatingPointError\n",
            "        OverflowError\n",
            "        ZeroDivisionError\n",
            "            DivisionByZero\n",
            "            DivisionUndefined\n",
            "        DecimalException\n",
            "            Clamped\n",
            "            Rounded\n",
            "                Underflow\n",
            "                Overflow\n",
            "            Inexact\n",
            "                Underflow\n",
            "                Overflow\n",
            "            Subnormal\n",
            "                Underflow\n",
            "            DivisionByZero\n",
            "            FloatOperation\n",
            "            InvalidOperation\n",
            "                ConversionSyntax\n",
            "                DivisionImpossible\n",
            "                DivisionUndefined\n",
            "                InvalidContext\n",
            "    SystemError\n",
            "        CodecRegistryError\n",
            "    ReferenceError\n",
            "    MemoryError\n",
            "        MemoryError\n",
            "    BufferError\n",
            "    Warning\n",
            "        UserWarning\n",
            "            GetPassWarning\n",
            "            FormatterWarning\n",
            "            SetuptoolsWarning\n",
            "                InformationOnly\n",
            "                SetuptoolsDeprecationWarning\n",
            "                    _AmbiguousMarker\n",
            "                    _DeprecatedConfig\n",
            "                    _WouldIgnoreField\n",
            "                    DistDeprecationWarning\n",
            "                _BetaConfiguration\n",
            "                _InvalidFile\n",
            "            VisibleDeprecationWarning\n",
            "            RankWarning\n",
            "            ConversionWarning\n",
            "            RankWarning\n",
            "        EncodingWarning\n",
            "        DeprecationWarning\n",
            "            ProvisionalWarning\n",
            "            ModuleDeprecationWarning\n",
            "            MatplotlibDeprecationWarning\n",
            "        PendingDeprecationWarning\n",
            "        SyntaxWarning\n",
            "        RuntimeWarning\n",
            "            ProactorSelectorThreadWarning\n",
            "            UnknownTimezoneWarning\n",
            "            ComplexWarning\n",
            "            DecompressionBombWarning\n",
            "            PEP440Warning\n",
            "        FutureWarning\n",
            "            ProvisionalCompleterWarning\n",
            "            MaskedArrayFutureWarning\n",
            "        ImportWarning\n",
            "        UnicodeWarning\n",
            "        BytesWarning\n",
            "        ResourceWarning\n",
            "        DeprecatedTzFormatWarning\n",
            "        MathTextWarning\n",
            "        PkgResourcesDeprecationWarning\n",
            "    _OptionError\n",
            "    error\n",
            "    Verbose\n",
            "    Error\n",
            "    _Error\n",
            "    SubprocessError\n",
            "        CalledProcessError\n",
            "        TimeoutExpired\n",
            "    Error\n",
            "    TokenError\n",
            "    StopTokenizing\n",
            "    error\n",
            "    LZMAError\n",
            "    RegistryError\n",
            "    _GiveupOnFastCopy\n",
            "    ClassFoundException\n",
            "    EndOfBlock\n",
            "    TraitError\n",
            "    _GiveupOnSendfile\n",
            "    error\n",
            "    PickleError\n",
            "        PicklingError\n",
            "        UnpicklingError\n",
            "    _Stop\n",
            "    Empty\n",
            "    Full\n",
            "    ArgumentError\n",
            "    ArgumentTypeError\n",
            "    ConfigError\n",
            "        ConfigLoaderError\n",
            "            ArgumentError\n",
            "        ConfigFileNotFound\n",
            "    ConfigurableError\n",
            "        MultipleInstanceError\n",
            "    ApplicationError\n",
            "    ErrorDuringImport\n",
            "    BdbQuit\n",
            "    Restart\n",
            "    ExceptionPexpect\n",
            "        EOF\n",
            "        TIMEOUT\n",
            "    error\n",
            "    PtyProcessError\n",
            "    FindCmdError\n",
            "    HomeDirError\n",
            "    ProfileDirError\n",
            "    IPythonCoreError\n",
            "        TryNext\n",
            "        UsageError\n",
            "        StdinNotImplementedError\n",
            "    InputRejected\n",
            "    GetoptError\n",
            "    Incomplete\n",
            "    OptionError\n",
            "    ErrorToken\n",
            "    PrefilterError\n",
            "    AliasError\n",
            "        InvalidAliasError\n",
            "    Error\n",
            "        InterfaceError\n",
            "        DatabaseError\n",
            "            InternalError\n",
            "            OperationalError\n",
            "            ProgrammingError\n",
            "            IntegrityError\n",
            "            DataError\n",
            "            NotSupportedError\n",
            "    Warning\n",
            "    Error\n",
            "        CancelledError\n",
            "        TimeoutError\n",
            "        InvalidStateError\n",
            "    TimeoutError\n",
            "    InvalidStateError\n",
            "    LimitOverrunError\n",
            "    QueueEmpty\n",
            "    QueueFull\n",
            "    SpaceInInput\n",
            "    DOMException\n",
            "        IndexSizeErr\n",
            "        DomstringSizeErr\n",
            "        HierarchyRequestErr\n",
            "        WrongDocumentErr\n",
            "        InvalidCharacterErr\n",
            "        NoDataAllowedErr\n",
            "        NoModificationAllowedErr\n",
            "        NotFoundErr\n",
            "        NotSupportedErr\n",
            "        InuseAttributeErr\n",
            "        InvalidStateErr\n",
            "        SyntaxErr\n",
            "        InvalidModificationErr\n",
            "        NamespaceErr\n",
            "        InvalidAccessErr\n",
            "        ValidationErr\n",
            "    ValidationError\n",
            "    EditReadOnlyBuffer\n",
            "    _Retry\n",
            "    InvalidLayoutError\n",
            "    HeightIsUnknownError\n",
            "    MessageError\n",
            "        MessageParseError\n",
            "            HeaderParseError\n",
            "                _InvalidEwError\n",
            "            BoundaryError\n",
            "        MultipartConversionError\n",
            "        CharsetError\n",
            "    Error\n",
            "    HTTPException\n",
            "        NotConnected\n",
            "        InvalidURL\n",
            "        UnknownProtocol\n",
            "        UnknownTransferEncoding\n",
            "        UnimplementedFileMode\n",
            "        IncompleteRead\n",
            "        ImproperConnectionState\n",
            "            CannotSendRequest\n",
            "            CannotSendHeader\n",
            "            ResponseNotReady\n",
            "        BadStatusLine\n",
            "            RemoteDisconnected\n",
            "        LineTooLong\n",
            "    InteractivelyDefined\n",
            "    KillEmbedded\n",
            "    ArgumentError\n",
            "    ZMQBaseError\n",
            "        ZMQError\n",
            "            ContextTerminated\n",
            "            Again\n",
            "            InterruptedSystemCall\n",
            "        ZMQBindError\n",
            "        NotDone\n",
            "    NoIPAddresses\n",
            "    Error\n",
            "        NoSectionError\n",
            "        DuplicateSectionError\n",
            "        DuplicateOptionError\n",
            "        NoOptionError\n",
            "        InterpolationError\n",
            "            InterpolationMissingOptionError\n",
            "            InterpolationSyntaxError\n",
            "            InterpolationDepthError\n",
            "        ParsingError\n",
            "            MissingSectionHeaderError\n",
            "    InvalidPortNumber\n",
            "    DuplicateKernelError\n",
            "    error\n",
            "    ReturnValueIgnoredError\n",
            "    KeyReuseError\n",
            "    UnknownKeyError\n",
            "    LeakedCallbackError\n",
            "    BadYieldError\n",
            "    ReturnValueIgnoredError\n",
            "    Return\n",
            "    QueueEmpty\n",
            "    QueueFull\n",
            "    DistutilsError\n",
            "        DistutilsModuleError\n",
            "        DistutilsClassError\n",
            "        DistutilsGetoptError\n",
            "        DistutilsArgError\n",
            "        DistutilsFileError\n",
            "        DistutilsOptionError\n",
            "        DistutilsSetupError\n",
            "        DistutilsPlatformError\n",
            "        DistutilsExecError\n",
            "        DistutilsInternalError\n",
            "        DistutilsTemplateError\n",
            "        DistutilsByteCompileError\n",
            "        RemovedCommandError\n",
            "        PackageDiscoveryError\n",
            "    CCompilerError\n",
            "        PreprocessError\n",
            "        CompileError\n",
            "        LibError\n",
            "        LinkError\n",
            "        UnknownFileError\n",
            "    BadZipFile\n",
            "    LargeZipFile\n",
            "    Error\n",
            "    ParserSyntaxError\n",
            "    Error\n",
            "        AuthorizationError\n",
            "        RuntimeManagementError\n",
            "        MessageError\n",
            "    WidgetException\n",
            "    JsException\n",
            "    FormattedTracebackError\n",
            "    Error\n",
            "        NoSuchProcess\n",
            "            ZombieProcess\n",
            "        AccessDenied\n",
            "        TimeoutExpired\n",
            "    _Ipv6UnsupportedError\n",
            "    ParseBaseException\n",
            "        ParseException\n",
            "        ParseFatalException\n",
            "            ParseSyntaxException\n",
            "    RecursiveGrammarException\n",
            "    HttpLib2Error\n",
            "        HttpLib2ErrorWithResponse\n",
            "            RedirectMissingLocation\n",
            "            RedirectLimit\n",
            "            FailedToDecompressContent\n",
            "            UnimplementedDigestAuthOptionError\n",
            "            UnimplementedHmacDigestAuthOptionError\n",
            "        MalformedHeader\n",
            "        RelativeURIError\n",
            "        ServerNotFoundError\n",
            "        ProxiesUnavailableError\n",
            "    LinAlgError\n",
            "    ConverterError\n",
            "        ConverterLockError\n",
            "    MAError\n",
            "        MaskError\n",
            "    ExpatError\n",
            "    DecompressionBombError\n",
            "    FFIError\n",
            "    CDefError\n",
            "    VerificationError\n",
            "    VerificationMissing\n",
            "    PkgConfigError\n",
            "    DuplicateConstraint\n",
            "    UnsatisfiableConstraint\n",
            "    UnknownConstraint\n",
            "    DuplicateEditVariable\n",
            "    UnknownEditVariable\n",
            "    BadRequiredStrength\n",
            "    NonGuiException\n",
            "    InvalidIndexError\n",
            "    TerminateTrajectory\n",
            "    NoFreePortFoundError\n",
            "    DebuggerInitializationError\n",
            "    Error\n",
            "        ProtocolError\n",
            "        ResponseError\n",
            "        Fault\n",
            "    ParserSyntaxError\n",
            "    ResolutionError\n",
            "        VersionConflict\n",
            "            ContextualVersionConflict\n",
            "        DistributionNotFound\n",
            "        UnknownExtra\n",
            "    _Error\n",
            "    UnableToResolveVariableException\n",
            "    InvalidTypeInArgsException\n"
          ]
        }
      ]
    },
    {
      "cell_type": "markdown",
      "source": [
        "**Question 3**: What errors are defined in the ArithmeticError class? Explain any two with an example."
      ],
      "metadata": {
        "id": "1ejvEmWp32dV"
      }
    },
    {
      "cell_type": "markdown",
      "source": [
        "The ArithmeticError class in Python is the base class for all errors related to arithmetic operations. It encompasses a range of errors that can occur during arithmetic calculations. Here are two commonly encountered errors defined in the ArithmeticError class:"
      ],
      "metadata": {
        "id": "HUuOVQDaFxNn"
      }
    },
    {
      "cell_type": "markdown",
      "source": [
        "ZeroDivisionError: This error occurs when a division or modulo operation is performed with a divisor of zero."
      ],
      "metadata": {
        "id": "368pyNaQF1gF"
      }
    },
    {
      "cell_type": "code",
      "source": [
        "# Example\n",
        "\n",
        "try:\n",
        "    result = 10 / 0\n",
        "except ZeroDivisionError as e:\n",
        "    print(\"Error:\", e)"
      ],
      "metadata": {
        "id": "63euDfdu37Do",
        "colab": {
          "base_uri": "https://localhost:8080/"
        },
        "outputId": "fdafb203-af03-484a-e8b1-bb91988b8967"
      },
      "execution_count": 2,
      "outputs": [
        {
          "output_type": "stream",
          "name": "stdout",
          "text": [
            "Error: division by zero\n"
          ]
        }
      ]
    },
    {
      "cell_type": "markdown",
      "source": [
        "OverflowError: This error occurs when the result of an arithmetic operation exceeds the maximum representable value."
      ],
      "metadata": {
        "id": "KHJ8wgR9F8cM"
      }
    },
    {
      "cell_type": "code",
      "source": [
        "# Example\n",
        "\n",
        "import sys\n",
        "\n",
        "try:\n",
        "    result = sys.maxsize + 1\n",
        "except OverflowError as e:\n",
        "    print(\"Error:\", e)"
      ],
      "metadata": {
        "id": "SM1WEdaUF8pd"
      },
      "execution_count": 3,
      "outputs": []
    },
    {
      "cell_type": "markdown",
      "source": [
        "**Question 4**: Why LookupError class is used? Explain with an example KeyError and IndexError."
      ],
      "metadata": {
        "id": "2YmJpW-H32hD"
      }
    },
    {
      "cell_type": "markdown",
      "source": [
        "The LookupError class in Python is the base class for errors that occur during a lookup or indexing operation. It encompasses errors related to accessing elements or values from sequences, mappings, or other collections. Two commonly encountered errors defined in the LookupError class are KeyError and IndexError."
      ],
      "metadata": {
        "id": "AlXdG59EGbM4"
      }
    },
    {
      "cell_type": "markdown",
      "source": [
        "**KeyError**: This error occurs when a dictionary key or a set element is not found during a lookup operation."
      ],
      "metadata": {
        "id": "6NEdEnJyGelS"
      }
    },
    {
      "cell_type": "code",
      "source": [
        "try:\n",
        "    result = 10 / 0\n",
        "except ZeroDivisionError as e:\n",
        "    print(\"Error:\", e)"
      ],
      "metadata": {
        "id": "_zlyXstv385X",
        "colab": {
          "base_uri": "https://localhost:8080/"
        },
        "outputId": "90b6ba94-373c-4feb-8e46-4caa08263186"
      },
      "execution_count": 4,
      "outputs": [
        {
          "output_type": "stream",
          "name": "stdout",
          "text": [
            "Error: division by zero\n"
          ]
        }
      ]
    },
    {
      "cell_type": "markdown",
      "source": [
        "**OverflowError**: This error occurs when the result of an arithmetic operation exceeds the maximum representable value."
      ],
      "metadata": {
        "id": "sHMwHzF8GlhU"
      }
    },
    {
      "cell_type": "code",
      "source": [
        "import sys\n",
        "\n",
        "try:\n",
        "    result = sys.maxsize + 1\n",
        "except OverflowError as e:\n",
        "    print(\"Error:\", e)"
      ],
      "metadata": {
        "id": "c8zV1t24GltX"
      },
      "execution_count": 5,
      "outputs": []
    },
    {
      "cell_type": "markdown",
      "source": [
        "**Question 5**: Explain ImportError. What is ModuleNotFoundError?"
      ],
      "metadata": {
        "id": "RceIbI0J32k1"
      }
    },
    {
      "cell_type": "markdown",
      "source": [
        "**ImportError** is an exception that is raised when there is an error in importing a module. It occurs when the Python interpreter encounters difficulties while importing a module, such as when the module does not exist, or there are issues with the module's code."
      ],
      "metadata": {
        "id": "fOMqespnHkOf"
      }
    },
    {
      "cell_type": "code",
      "source": [
        "# Example\n",
        "\n",
        "try:\n",
        "    import non_existent_module\n",
        "except ImportError as e:\n",
        "    print(\"Error:\", e)"
      ],
      "metadata": {
        "colab": {
          "base_uri": "https://localhost:8080/"
        },
        "id": "95x_xr1bHkeG",
        "outputId": "93d264f6-fa50-4dec-c251-827e85cffa9e"
      },
      "execution_count": 6,
      "outputs": [
        {
          "output_type": "stream",
          "name": "stdout",
          "text": [
            "Error: No module named 'non_existent_module'\n"
          ]
        }
      ]
    },
    {
      "cell_type": "markdown",
      "source": [
        "**ModuleNotFoundError** is a subclass of ImportError that specifically indicates that the requested module could not be found."
      ],
      "metadata": {
        "id": "FbvaqEjfHkp1"
      }
    },
    {
      "cell_type": "code",
      "source": [
        "# Example\n",
        "\n",
        "try:\n",
        "    import non_existent_module\n",
        "except ModuleNotFoundError as e:\n",
        "    print(\"Error:\", e)"
      ],
      "metadata": {
        "id": "Q86CeiPI39_r",
        "colab": {
          "base_uri": "https://localhost:8080/"
        },
        "outputId": "e16636f5-c712-4971-a3c5-05e87e5c336d"
      },
      "execution_count": 7,
      "outputs": [
        {
          "output_type": "stream",
          "name": "stdout",
          "text": [
            "Error: No module named 'non_existent_module'\n"
          ]
        }
      ]
    },
    {
      "cell_type": "markdown",
      "source": [
        "**Question 6**: List down some best practices for exception handling in python."
      ],
      "metadata": {
        "id": "50tPH05f33WZ"
      }
    },
    {
      "cell_type": "markdown",
      "source": [
        "Here are some best practices for exception handling in Python:\n",
        "\n",
        "1. Be specific in catching exceptions: Catch specific exceptions rather than catching all exceptions using a generic `except` statement. This allows you to handle different exceptions differently and provides better error messages.\n",
        "\n",
        "2. Use multiple `except` blocks: If you need to handle different exceptions in different ways, use multiple `except` blocks to catch and handle each specific exception separately.\n",
        "\n",
        "3. Handle exceptions gracefully: Avoid letting exceptions propagate up to the top-level of your program without being handled. Instead, catch and handle exceptions at an appropriate level, providing meaningful error messages and taking appropriate actions.\n",
        "\n",
        "4. Use `try-except-else` blocks: Use `else` blocks with `try-except` to specify code that should only run if no exceptions were raised. This allows you to separate the normal execution path from exception handling logic.\n",
        "\n",
        "5. Use `finally` blocks for cleanup: Use `finally` blocks to specify code that should always be executed, regardless of whether an exception was raised or not. This is useful for cleanup tasks like closing files or releasing resources.\n",
        "\n",
        "6. Avoid bare `except` statements: Avoid using bare `except` statements without specifying the exception type. This can catch unexpected exceptions and make it harder to diagnose and debug issues.\n",
        "\n",
        "7. Log exceptions: Use a logging framework to log exceptions along with relevant information like the error message, traceback, and context. This helps in troubleshooting and understanding the cause of exceptions.\n",
        "\n",
        "8. Raise meaningful exceptions: When raising exceptions, provide meaningful error messages that describe the issue clearly. Include relevant information that can help in diagnosing and fixing the problem.\n",
        "\n",
        "9. Avoid excessive nesting: Avoid excessive nesting of `try-except` blocks. Instead, refactor your code to keep the exception handling code separate and readable.\n",
        "\n",
        "10. Use custom exceptions when necessary: When the built-in exceptions don't fully capture the nature of an error, define custom exception classes to provide more specific information and improve the clarity of your code."
      ],
      "metadata": {
        "id": "wMTXjbb3IsLH"
      }
    }
  ]
}