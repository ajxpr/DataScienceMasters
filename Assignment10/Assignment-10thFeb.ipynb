{
  "nbformat": 4,
  "nbformat_minor": 0,
  "metadata": {
    "colab": {
      "provenance": []
    },
    "kernelspec": {
      "name": "python3",
      "display_name": "Python 3"
    },
    "language_info": {
      "name": "python"
    }
  },
  "cells": [
    {
      "cell_type": "markdown",
      "source": [
        "# Assignment Topic: OOPS Assignment\n",
        "\n",
        "### Done By: Akshaj Piri"
      ],
      "metadata": {
        "id": "wDGlVKA53j4g"
      }
    },
    {
      "cell_type": "markdown",
      "source": [
        "**Question 1**: Which function is used to open a file? What are the different modes of opening a file? Explain each mode\n",
        "of file opening."
      ],
      "metadata": {
        "id": "tUqq_MrN3p9T"
      }
    },
    {
      "cell_type": "markdown",
      "source": [
        "he open() function is used to open a file in Python. It takes two parameters: the file path or name, and the mode in which the file should be opened.\n",
        "\n",
        "Here are the different modes of file opening in Python:\n",
        "\n",
        "1. 'r' (Read Mode): This is the default mode. It opens the file for reading. If the file does not exist, it raises a FileNotFoundError exception.\n",
        "\n",
        "2. 'w' (Write Mode): It opens the file for writing. If the file already exists, it truncates the file to zero length. If the file does not exist, it creates a new file.\n",
        "\n",
        "3. 't' (Text Mode): It opens the file in text mode, which is the default mode. In this mode, the data is treated as text, and newline characters are automatically converted based on the platform.\n"
      ],
      "metadata": {
        "id": "ThBTBDzaSvg4"
      }
    },
    {
      "cell_type": "markdown",
      "source": [
        "**Question 2**: Why close() function is used? Why is it important to close a file?"
      ],
      "metadata": {
        "id": "UggGCJWv32Vd"
      }
    },
    {
      "cell_type": "markdown",
      "source": [
        "The close() function is used to close a file in Python. \n",
        "\n",
        "It is important to close a file after performing the required operations for the following reasons:\n",
        "\n",
        "1. Release Resources: When a file is opened, the operating system allocates certain resources to it, such as memory buffers and file descriptors.\n",
        "\n",
        "2. Flush Data: When you write data to a file, it is typically first stored in a buffer in memory, and then written to the file on the disk. \n",
        "\n",
        "3. Ensure Consistency: Closing a file helps ensure data consistency and integrity. When a file is closed, any changes made to the file are committed and finalized. This means that other programs or processes can access and read the file in a consistent state.\n",
        "\n",
        "4. Good Programming Practice: Closing a file is considered good programming practice. It helps in maintaining clean and readable code by clearly indicating the end of file operations and promoting proper resource management."
      ],
      "metadata": {
        "id": "uQYVlhOpTsSC"
      }
    },
    {
      "cell_type": "markdown",
      "source": [
        "**Question 3**: Write a python program to create a text file. Write ‘I want to become a Data Scientist’ in that file. Then close the file. Open this file and read the content of the file."
      ],
      "metadata": {
        "id": "1ejvEmWp32dV"
      }
    },
    {
      "cell_type": "code",
      "source": [
        "# Create a text file and write content into it\n",
        "file_name = 'data.txt'\n",
        "content = 'I want to become a Data Scientist'"
      ],
      "metadata": {
        "id": "FxnfnOSpUFKr"
      },
      "execution_count": 1,
      "outputs": []
    },
    {
      "cell_type": "code",
      "source": [
        "# Open the file in write mode\n",
        "file = open(file_name, 'w')"
      ],
      "metadata": {
        "id": "uLHALrY5UIFJ"
      },
      "execution_count": 2,
      "outputs": []
    },
    {
      "cell_type": "code",
      "source": [
        "# Write the content to the file\n",
        "file.write(content)"
      ],
      "metadata": {
        "colab": {
          "base_uri": "https://localhost:8080/"
        },
        "id": "46GGkL6dUKMn",
        "outputId": "782ddb57-24a2-477a-95a6-effc8aa1ef20"
      },
      "execution_count": 3,
      "outputs": [
        {
          "output_type": "execute_result",
          "data": {
            "text/plain": [
              "33"
            ]
          },
          "metadata": {},
          "execution_count": 3
        }
      ]
    },
    {
      "cell_type": "code",
      "source": [
        "# Close the file\n",
        "file.close()"
      ],
      "metadata": {
        "id": "P0nIw0ePULvC"
      },
      "execution_count": 4,
      "outputs": []
    },
    {
      "cell_type": "code",
      "source": [
        "# Open the file in read mode\n",
        "file = open(file_name, 'r')"
      ],
      "metadata": {
        "id": "RM2ec9BVUNQt"
      },
      "execution_count": 5,
      "outputs": []
    },
    {
      "cell_type": "code",
      "source": [
        "# Read the content of the file\n",
        "file_content = file.read()"
      ],
      "metadata": {
        "id": "r5gmiEYvUO_A"
      },
      "execution_count": 6,
      "outputs": []
    },
    {
      "cell_type": "code",
      "source": [
        "# Close the file\n",
        "file.close()"
      ],
      "metadata": {
        "id": "KomGwtdIUQ_d"
      },
      "execution_count": 7,
      "outputs": []
    },
    {
      "cell_type": "code",
      "source": [
        "# Print the content of the file\n",
        "print(file_content)"
      ],
      "metadata": {
        "colab": {
          "base_uri": "https://localhost:8080/"
        },
        "id": "Kl8FNRVQUSjm",
        "outputId": "72a02016-5912-4ae5-ec2a-09d166043e1d"
      },
      "execution_count": 8,
      "outputs": [
        {
          "output_type": "stream",
          "name": "stdout",
          "text": [
            "I want to become a Data Scientist\n"
          ]
        }
      ]
    },
    {
      "cell_type": "markdown",
      "source": [
        "**Question 4**: Explain the following with python code: read(), readline() and readlines()."
      ],
      "metadata": {
        "id": "2YmJpW-H32hD"
      }
    },
    {
      "cell_type": "code",
      "source": [
        "#read(): The read() method reads the entire content of a file as a single string.\n",
        "\n",
        "# Open the file in read mode\n",
        "file = open('data.txt', 'r')\n",
        "\n",
        "# Read the entire content of the file\n",
        "content = file.read()\n",
        "\n",
        "# Close the file\n",
        "file.close()\n",
        "\n",
        "# Print the content\n",
        "print(content)"
      ],
      "metadata": {
        "id": "_zlyXstv385X",
        "colab": {
          "base_uri": "https://localhost:8080/"
        },
        "outputId": "38d376ff-8fc7-49a0-d4b7-0cc6406a296b"
      },
      "execution_count": 9,
      "outputs": [
        {
          "output_type": "stream",
          "name": "stdout",
          "text": [
            "I want to become a Data Scientist\n"
          ]
        }
      ]
    },
    {
      "cell_type": "code",
      "source": [
        "# readline(): The readline() method reads a single line from the file.\n",
        "\n",
        "# Open the file in read mode\n",
        "file = open('data.txt', 'r')\n",
        "\n",
        "# Read the first line of the file\n",
        "line1 = file.readline()\n",
        "\n",
        "# Read the second line of the file\n",
        "line2 = file.readline()\n",
        "\n",
        "# Close the file\n",
        "file.close()\n",
        "\n",
        "# Print the lines\n",
        "print(line1)\n",
        "print(line2)"
      ],
      "metadata": {
        "colab": {
          "base_uri": "https://localhost:8080/"
        },
        "id": "dH2PWdxgXevJ",
        "outputId": "b15efdf0-5d09-440a-95c4-3d8539486893"
      },
      "execution_count": 10,
      "outputs": [
        {
          "output_type": "stream",
          "name": "stdout",
          "text": [
            "I want to become a Data Scientist\n",
            "\n"
          ]
        }
      ]
    },
    {
      "cell_type": "code",
      "source": [
        "# readlines(): The readlines() method reads all the lines of the file and returns a list where each element is a line from the file.\n",
        "\n",
        "# Open the file in read mode\n",
        "file = open('data.txt', 'r')\n",
        "\n",
        "# Read all the lines of the file\n",
        "lines = file.readlines()\n",
        "\n",
        "# Close the file\n",
        "file.close()\n",
        "\n",
        "# Print the lines\n",
        "for line in lines:\n",
        "    print(line)"
      ],
      "metadata": {
        "colab": {
          "base_uri": "https://localhost:8080/"
        },
        "id": "c8LnPIwaXqHB",
        "outputId": "6c7a9dcc-2392-4a29-9c38-5e7907e90533"
      },
      "execution_count": 11,
      "outputs": [
        {
          "output_type": "stream",
          "name": "stdout",
          "text": [
            "I want to become a Data Scientist\n"
          ]
        }
      ]
    },
    {
      "cell_type": "markdown",
      "source": [
        "**Question 5**: Explain why with statement is used with open(). What is the advantage of using with statement and open() together?"
      ],
      "metadata": {
        "id": "RceIbI0J32k1"
      }
    },
    {
      "cell_type": "markdown",
      "source": [
        "The with statement in Python is used in conjunction with the open() function to ensure proper handling of file resources."
      ],
      "metadata": {
        "id": "CuTUGKhgX26o"
      }
    },
    {
      "cell_type": "markdown",
      "source": [
        "Advantages of using the with statement with open():\n",
        "\n",
        "1. Automatic resource management: The with statement ensures that the file is properly closed after it is no longer needed.\n",
        "\n",
        "2. Exception handling: If an exception occurs within the block of code, the with statement automatically handles the exception and ensures that the file is closed properly.\n",
        "\n",
        "3. Cleaner code: By using the with statement, the code becomes more readable and concise."
      ],
      "metadata": {
        "id": "tvskA9wsX3D8"
      }
    },
    {
      "cell_type": "markdown",
      "source": [
        "**Question 6**: Explain the write() and writelines() functions. Give a suitable example."
      ],
      "metadata": {
        "id": "50tPH05f33WZ"
      }
    },
    {
      "cell_type": "markdown",
      "source": [
        "The write() and writelines() functions are used to write data to a file in Python.\n",
        "\n",
        "The write() function:\n",
        "\n",
        "1. The write() function is used to write a string of data to a file.\n",
        "2. It takes a string as an argument and writes it to the file at the current position.\n",
        "\n",
        "The writelines() function:\n",
        "\n",
        "1. The writelines() function is used to write a list of strings to a file.\n",
        "2. It takes an iterable (such as a list or tuple) of strings as an argument."
      ],
      "metadata": {
        "id": "vselIqzoYR6G"
      }
    },
    {
      "cell_type": "code",
      "source": [
        "# Open the file in write mode ('w')\n",
        "with open('data.txt', 'w') as file:\n",
        "    # Write a string using write()\n",
        "    file.write('Hello, World!\\n')\n",
        "    \n",
        "    # Write multiple strings using writelines()\n",
        "    lines = ['This is line 1\\n', 'This is line 2\\n', 'This is line 3\\n']\n",
        "    file.writelines(lines)\n",
        "\n",
        "\n",
        "# Open the file in read mode ('r') to verify the content\n",
        "with open('data.txt', 'r') as file:\n",
        "    # Read and print the content\n",
        "    content = file.read()\n",
        "    print(content)"
      ],
      "metadata": {
        "id": "RWauEGTv4Jnx",
        "colab": {
          "base_uri": "https://localhost:8080/"
        },
        "outputId": "754fb4a3-4c78-40b0-ec84-76c403c5ccc1"
      },
      "execution_count": 13,
      "outputs": [
        {
          "output_type": "stream",
          "name": "stdout",
          "text": [
            "Hello, World!\n",
            "This is line 1\n",
            "This is line 2\n",
            "This is line 3\n",
            "\n"
          ]
        }
      ]
    }
  ]
}