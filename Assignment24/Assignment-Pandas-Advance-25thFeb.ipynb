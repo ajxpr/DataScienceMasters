{
  "nbformat": 4,
  "nbformat_minor": 0,
  "metadata": {
    "colab": {
      "provenance": []
    },
    "kernelspec": {
      "name": "python3",
      "display_name": "Python 3"
    },
    "language_info": {
      "name": "python"
    }
  },
  "cells": [
    {
      "cell_type": "markdown",
      "source": [
        "# Assignment Topic: Pandas Advance - 25th Feb\n",
        "\n",
        "### Done By: Akshaj Piri"
      ],
      "metadata": {
        "id": "wDGlVKA53j4g"
      }
    },
    {
      "cell_type": "markdown",
      "source": [
        "Consider following code to answer further questions:"
      ],
      "metadata": {
        "id": "rVn_tMtFsh_c"
      }
    },
    {
      "cell_type": "code",
      "source": [
        "import pandas as pd\n",
        "\n",
        "course_name = [\"Data Science\", \"Machine Learning\", \"Big Data\", \"Data Engineer\"]\n",
        "\n",
        "duration = [2,3,6,4]\n",
        "\n",
        "df = pd.DataFrame(data = {\"course_name\" : course_name, \"duration\" : duration})"
      ],
      "metadata": {
        "id": "ZuYwOxNZsoe2"
      },
      "execution_count": 4,
      "outputs": []
    },
    {
      "cell_type": "markdown",
      "source": [
        "**Question 1**: Write a code to print the data present in the second row of the dataframe, df."
      ],
      "metadata": {
        "id": "tUqq_MrN3p9T"
      }
    },
    {
      "cell_type": "code",
      "source": [
        "import pandas as pd\n",
        "\n",
        "course_name = ['Data Science', 'Machine Learning', 'Big Data', 'Data Engineer']\n",
        "duration = [2, 3, 6, 4]\n",
        "df = pd.DataFrame(data={'course_name': course_name, 'duration': duration})\n",
        "\n",
        "second_row = df.iloc[1]\n",
        "print(second_row)"
      ],
      "metadata": {
        "id": "WXkYx5Aj3-yL",
        "colab": {
          "base_uri": "https://localhost:8080/"
        },
        "outputId": "f730118a-a744-4ffc-9b69-cc8ea7a105a1"
      },
      "execution_count": 5,
      "outputs": [
        {
          "output_type": "stream",
          "name": "stdout",
          "text": [
            "course_name    Machine Learning\n",
            "duration                      3\n",
            "Name: 1, dtype: object\n"
          ]
        }
      ]
    },
    {
      "cell_type": "markdown",
      "source": [
        "**Question 2**: What is the difference between the functions loc and iloc in pandas.DataFrame?"
      ],
      "metadata": {
        "id": "UggGCJWv32Vd"
      }
    },
    {
      "cell_type": "markdown",
      "source": [
        "The functions loc and iloc are used in pandas to access data in a DataFrame, but they differ in the way they reference and retrieve data.\n",
        "\n",
        "1. **loc**: It is used to access data using label-based indexing. This means that you can specify row and column labels to retrieve specific data. The loc function takes two parameters: the row label(s) and the column label(s). For example, df.loc[2, 'course_name'] retrieves the value in the 'course_name' column of the row labeled 2.\n",
        "\n",
        "2. **iloc**: It is used to access data using integer-based indexing. This means that you can specify row and column indices to retrieve specific data. The iloc function takes two parameters: the row index(es) and the column index(es). For example, df.iloc[2, 1] retrieves the value in the second column (index 1) of the third row (index 2)."
      ],
      "metadata": {
        "id": "oBzYMOinvGpa"
      }
    },
    {
      "cell_type": "markdown",
      "source": [
        "**Question 3**: Reindex the given dataframe using a variable, reindex = [3,0,1,2] and store it in the variable, new_df\n",
        "then find the output for both new_df.loc[2] and new_df.iloc[2].\n",
        "\n",
        "Did you observe any difference in both the outputs? If so then explain it.\n",
        "\n",
        "Consider the below code to answer further questions:\n",
        "\n",
        "```\n",
        "import pandas as pd\n",
        "\n",
        "import numpy as np\n",
        "\n",
        "columns = ['column_1', 'column_2', 'column_3', 'column_4', 'column_5', 'column_6']\n",
        "\n",
        "indices = [1,2,3,4,5,6]\n",
        "\n",
        "Creating a dataframe:\n",
        "\n",
        "df1 = pd.DataFrame(np.random.rand(6,6), columns = columns, index = indices)\n",
        "```"
      ],
      "metadata": {
        "id": "1ejvEmWp32dV"
      }
    },
    {
      "cell_type": "code",
      "source": [
        "import pandas as pd\n",
        "\n",
        "import numpy as np\n",
        "\n",
        "columns = ['column_1', 'column_2', 'column_3', 'column_4', 'column_5', 'column_6']\n",
        "\n",
        "indices = [1,2,3,4,5,6]\n",
        "\n",
        "df1 = pd.DataFrame(np.random.rand(6,6), columns = columns, index = indices)"
      ],
      "metadata": {
        "id": "r5Wbye5RvpQc"
      },
      "execution_count": 8,
      "outputs": []
    },
    {
      "cell_type": "code",
      "source": [
        "import pandas as pd\n",
        "\n",
        "reindex = [3, 0, 1, 2]\n",
        "\n",
        "new_df = df1.reindex(reindex)\n",
        "\n",
        "print(new_df.loc[2])\n",
        "print(new_df.iloc[2])"
      ],
      "metadata": {
        "id": "63euDfdu37Do",
        "colab": {
          "base_uri": "https://localhost:8080/"
        },
        "outputId": "a4b0d2e9-530f-492e-d5b3-6fcefbc573bd"
      },
      "execution_count": 9,
      "outputs": [
        {
          "output_type": "stream",
          "name": "stdout",
          "text": [
            "column_1    0.099189\n",
            "column_2    0.888034\n",
            "column_3    0.560751\n",
            "column_4    0.416503\n",
            "column_5    0.382106\n",
            "column_6    0.225750\n",
            "Name: 2, dtype: float64\n",
            "column_1    0.655948\n",
            "column_2    0.236774\n",
            "column_3    0.583825\n",
            "column_4    0.865080\n",
            "column_5    0.489766\n",
            "column_6    0.598792\n",
            "Name: 1, dtype: float64\n"
          ]
        }
      ]
    },
    {
      "cell_type": "markdown",
      "source": [
        "**Question 4**: Write a code to find the following statistical measurements for the above dataframe df1:\n",
        "\n",
        "(i) mean of each and every column present in the dataframe.\n",
        "\n",
        "(ii) standard deviation of column, ‘column_2’"
      ],
      "metadata": {
        "id": "2YmJpW-H32hD"
      }
    },
    {
      "cell_type": "code",
      "source": [
        "import pandas as pd\n",
        "import numpy as np\n",
        "\n",
        "columns = ['column_1', 'column_2', 'column_3', 'column_4', 'column_5', 'column_6']\n",
        "indices = [1, 2, 3, 4, 5, 6]\n",
        "\n",
        "df1 = pd.DataFrame(np.random.rand(6, 6), columns=columns, index=indices)\n",
        "\n",
        "# Calculate the mean of each column\n",
        "column_means = df1.mean()\n",
        "print(\"Mean of each column:\")\n",
        "print(column_means)\n",
        "print()\n",
        "\n",
        "# Calculate the standard deviation of column 'column_2'\n",
        "column_2_std = df1['column_2'].std()\n",
        "print(\"Standard deviation of column 'column_2':\")\n",
        "print(column_2_std)"
      ],
      "metadata": {
        "id": "_zlyXstv385X",
        "colab": {
          "base_uri": "https://localhost:8080/"
        },
        "outputId": "33edaa84-cf1c-430a-c71e-79b9ec820894"
      },
      "execution_count": 10,
      "outputs": [
        {
          "output_type": "stream",
          "name": "stdout",
          "text": [
            "Mean of each column:\n",
            "column_1    0.403617\n",
            "column_2    0.590410\n",
            "column_3    0.545980\n",
            "column_4    0.472805\n",
            "column_5    0.466586\n",
            "column_6    0.698887\n",
            "dtype: float64\n",
            "\n",
            "Standard deviation of column 'column_2':\n",
            "0.26356315072549585\n"
          ]
        }
      ]
    },
    {
      "cell_type": "markdown",
      "source": [
        "**Question 5**: Replace the data present in the second row of column, ‘column_2’ by a string variable then find the\n",
        "mean of column, column_2.\n",
        "\n",
        "If you are getting errors in executing it then explain why.\n",
        "\n",
        "[Hint: To replace the data use df1.loc[] and equate this to string data of your choice.]"
      ],
      "metadata": {
        "id": "RceIbI0J32k1"
      }
    },
    {
      "cell_type": "code",
      "source": [
        "import pandas as pd\n",
        "import numpy as np\n",
        "\n",
        "columns = ['column_1', 'column_2', 'column_3', 'column_4', 'column_5', 'column_6']\n",
        "indices = [1, 2, 3, 4, 5, 6]\n",
        "\n",
        "df1 = pd.DataFrame(np.random.rand(6, 6), columns=columns, index=indices)\n",
        "\n",
        "# Replace the data in the second row of column 'column_2' with a string variable\n",
        "df1.loc[2, 'column_2'] = 'New String Data'\n",
        "\n",
        "# Calculate the mean of column 'column_2'\n",
        "column_2_mean = df1['column_2'].mean()\n",
        "print(\"Mean of column 'column_2':\")\n",
        "print(column_2_mean)"
      ],
      "metadata": {
        "id": "7b_gCZIvwTmK"
      },
      "execution_count": null,
      "outputs": []
    },
    {
      "cell_type": "markdown",
      "source": [
        "**Question 6**: What do you understand about the windows function in pandas and list the types of windows functions?"
      ],
      "metadata": {
        "id": "50tPH05f33WZ"
      }
    },
    {
      "cell_type": "markdown",
      "source": [
        "In pandas, a window function is a way to perform calculations on a specific subset of data defined by a window or a group of rows. It allows us to compute aggregate functions, perform calculations, and apply transformations over a sliding or rolling window of data.\n",
        "\n",
        "There are several types of window functions available in pandas:\n",
        "\n",
        "1. **Rolling Functions**: These functions compute aggregate values over a specified window of consecutive rows. Examples include rolling.mean(), rolling.sum(), rolling.min(), rolling.max(), etc.\n",
        "\n",
        "2. **Expanding Functions**: These functions compute aggregate values over all the preceding rows, including the current row. Examples include expanding.mean(), expanding.sum(), expanding.min(), expanding.max(), etc.\n",
        "\n",
        "3. **EWM (Exponentially Weighted Moving) Functions**: These functions compute aggregate values using exponentially weighted moving averages over a specified window. Examples include ewm.mean(), ewm.var(), ewm.cov(), etc.\n",
        "\n",
        "4. **GroupBy Functions with Window Specification**: These functions allow us to perform group-wise computations with window specifications. Examples include groupby.rolling(), groupby.expanding(), groupby.ewm(), etc."
      ],
      "metadata": {
        "id": "KL775z-6wg6l"
      }
    },
    {
      "cell_type": "markdown",
      "source": [
        "**Question 7**: Write a code to print only the current month and year at the time of answering this question.\n",
        "\n",
        "[Hint: Use pandas.datetime function]"
      ],
      "metadata": {
        "id": "X6MoHwJ333g0"
      }
    },
    {
      "cell_type": "code",
      "source": [
        "import pandas as pd\n",
        "\n",
        "current_date = pd.Timestamp.now()\n",
        "current_month_year = current_date.strftime(\"%B %Y\")\n",
        "\n",
        "print(\"Current month and year:\", current_month_year)"
      ],
      "metadata": {
        "id": "9BbPqdWE4OzT",
        "colab": {
          "base_uri": "https://localhost:8080/"
        },
        "outputId": "36b92d62-dfac-4c37-95ed-0c134e51ef80"
      },
      "execution_count": 13,
      "outputs": [
        {
          "output_type": "stream",
          "name": "stdout",
          "text": [
            "Current month and year: May 2023\n"
          ]
        }
      ]
    },
    {
      "cell_type": "markdown",
      "source": [
        "**Question 8**: Write a Python program that takes in two dates as input (in the format YYYY-MM-DD) and calculates the difference between them in days, hours, and minutes using Pandas time delta. The program should prompt the user to enter the dates and display the result."
      ],
      "metadata": {
        "id": "BSVwpkTk33oh"
      }
    },
    {
      "cell_type": "code",
      "source": [
        "import pandas as pd\n",
        "\n",
        "# Prompt the user to enter the dates\n",
        "date1 = input(\"Enter the first date (YYYY-MM-DD): \")\n",
        "date2 = input(\"Enter the second date (YYYY-MM-DD): \")\n",
        "\n",
        "# Convert the input strings to pandas Timestamp objects\n",
        "timestamp1 = pd.Timestamp(date1)\n",
        "timestamp2 = pd.Timestamp(date2)\n",
        "\n",
        "# Calculate the time difference using timedelta\n",
        "time_difference = timestamp2 - timestamp1\n",
        "\n",
        "# Extract the days, hours, and minutes from the time difference\n",
        "days = time_difference.days\n",
        "hours = time_difference.seconds // 3600\n",
        "minutes = (time_difference.seconds // 60) % 60\n",
        "\n",
        "# Display the result\n",
        "print(\"Time difference:\")\n",
        "print(\"Days:\", days)\n",
        "print(\"Hours:\", hours)\n",
        "print(\"Minutes:\", minutes)"
      ],
      "metadata": {
        "id": "o5oVessz4SSW",
        "colab": {
          "base_uri": "https://localhost:8080/"
        },
        "outputId": "5a90d4a0-f87e-4482-a933-618aaa885b36"
      },
      "execution_count": 16,
      "outputs": [
        {
          "output_type": "stream",
          "name": "stdout",
          "text": [
            "Enter the first date (YYYY-MM-DD): 2023-05-01\n",
            "Enter the second date (YYYY-MM-DD): 2025-05-02\n",
            "Time difference:\n",
            "Days: 732\n",
            "Hours: 0\n",
            "Minutes: 0\n"
          ]
        }
      ]
    },
    {
      "cell_type": "markdown",
      "source": [
        "**Question 9**: Write a Python program that reads a CSV file containing categorical data and converts a specified column to a categorical data type. The program should prompt the user to enter the file path, column name, and category order, and then display the sorted data."
      ],
      "metadata": {
        "id": "hGfcK6y_33zk"
      }
    },
    {
      "cell_type": "code",
      "source": [
        "import pandas as pd\n",
        "\n",
        "# Prompt the user to enter the file path\n",
        "file_path = input(\"Enter the file path: \")\n",
        "\n",
        "# Read the CSV file into a DataFrame\n",
        "df = pd.read_csv(file_path)\n",
        "\n",
        "# Prompt the user to enter the column name to convert\n",
        "column_name = input(\"Enter the column name to convert: \")\n",
        "\n",
        "# Prompt the user to enter the category order\n",
        "category_order = input(\"Enter the category order (comma-separated values): \")\n",
        "category_order = [cat.strip() for cat in category_order.split(\",\")]\n",
        "\n",
        "# Convert the specified column to a categorical data type with the specified order\n",
        "df[column_name] = pd.Categorical(df[column_name], categories=category_order, ordered=True)\n",
        "\n",
        "# Sort the DataFrame by the specified column\n",
        "df_sorted = df.sort_values(by=column_name)\n",
        "\n",
        "# Display the sorted data\n",
        "print(df_sorted)"
      ],
      "metadata": {
        "id": "9PP7LdkkxvlU"
      },
      "execution_count": null,
      "outputs": []
    },
    {
      "cell_type": "markdown",
      "source": [
        "**Question 10**: Write a Python program that reads a CSV file containing sales data for different products and\n",
        "visualizes the data using a stacked bar chart to show the sales of each product category over time. The\n",
        "program should prompt the user to enter the file path and display the chart."
      ],
      "metadata": {
        "id": "LJZFkP6u34FQ"
      }
    },
    {
      "cell_type": "code",
      "source": [
        "import pandas as pd\n",
        "import matplotlib.pyplot as plt\n",
        "\n",
        "# Prompt the user to enter the file path\n",
        "file_path = input(\"Enter the file path: \")\n",
        "\n",
        "# Read the CSV file into a DataFrame\n",
        "df = pd.read_csv(file_path)\n",
        "\n",
        "# Convert the 'Date' column to datetime type\n",
        "df['Date'] = pd.to_datetime(df['Date'])\n",
        "\n",
        "# Group the data by 'Date' and 'Category' and calculate the total sales\n",
        "df_grouped = df.groupby(['Date', 'Category']).sum().reset_index()\n",
        "\n",
        "# Pivot the data to have 'Category' as columns and 'Date' as index\n",
        "df_pivot = df_grouped.pivot(index='Date', columns='Category', values='Sales')\n",
        "\n",
        "# Plot the stacked bar chart\n",
        "ax = df_pivot.plot(kind='bar', stacked=True, figsize=(10, 6))\n",
        "ax.set_xlabel('Date')\n",
        "ax.set_ylabel('Sales')\n",
        "ax.set_title('Sales of Each Product Category Over Time')\n",
        "\n",
        "# Display the chart\n",
        "plt.show()"
      ],
      "metadata": {
        "id": "2jO1tc3130ed"
      },
      "execution_count": null,
      "outputs": []
    },
    {
      "cell_type": "markdown",
      "source": [
        "**Question 11**: You are given a CSV file containing student data that includes the student ID and their test score. Write a Python program that reads the CSV file, calculates the mean, median, and mode of the test scores, and displays the results in a table.\n",
        "\n",
        "The program should do the following:\n",
        "- Prompt the user to enter the file path of the CSV file containing the student dataR\n",
        "- Read the CSV file into a Pandas DataFrameR\n",
        "- Calculate the mean, median, and mode of the test scores using Pandas toolsR\n",
        "- Display the mean, median, and mode in a table.\n",
        "\n",
        "Assume the CSV file contains the following columns\n",
        "- Student ID: The ID of the studentR\n",
        "- Test Score: The score of the student's test.\n",
        "\n",
        "Example usage of the program:\n",
        "\n",
        "Enter the file path of the CSV file containing the student data: student_data.csv\n",
        "\n",
        "+-----------+--------+\n",
        "\n",
        "| Statistic | Value |\n",
        "\n",
        "+-----------+--------+\n",
        "\n",
        "| Mean | 79.6 |\n",
        "\n",
        "| Median | 82 |\n",
        "\n",
        "| Mode | 85, 90 |\n",
        "\n",
        "+-----------+--------+\n",
        "\n",
        "Assume that the CSV file student_data.csv contains the following data:\n",
        "\n",
        "Student ID,Test Score\n",
        "\n",
        "1,85\n",
        "\n",
        "2,90\n",
        "\n",
        "3,80\n",
        "\n",
        "4,75\n",
        "\n",
        "5,85\n",
        "\n",
        "6,82\n",
        "\n",
        "7,78\n",
        "\n",
        "8,85\n",
        "\n",
        "9,90\n",
        "\n",
        "10,85\n",
        "\n",
        "The program should calculate the mean, median, and mode of the test scores and display the results\n",
        "in a table."
      ],
      "metadata": {
        "id": "LVuoixBKt7j8"
      }
    },
    {
      "cell_type": "code",
      "source": [
        "import pandas as pd\n",
        "\n",
        "# Prompt the user to enter the file path\n",
        "file_path = input(\"Enter the file path of the CSV file containing the student data: \")\n",
        "\n",
        "# Read the CSV file into a DataFrame\n",
        "df = pd.read_csv(file_path)\n",
        "\n",
        "# Calculate the mean, median, and mode of the test scores\n",
        "mean_score = df['Test Score'].mean()\n",
        "median_score = df['Test Score'].median()\n",
        "mode_scores = df['Test Score'].mode()\n",
        "\n",
        "# Create a table to display the results\n",
        "results_table = pd.DataFrame({'Statistic': ['Mean', 'Median', 'Mode'],\n",
        "                              'Value': [mean_score, median_score, ', '.join(map(str, mode_scores))]})\n",
        "\n",
        "# Display the table\n",
        "print(results_table)"
      ],
      "metadata": {
        "id": "nTz6T3Qet7j9"
      },
      "execution_count": null,
      "outputs": []
    }
  ]
}