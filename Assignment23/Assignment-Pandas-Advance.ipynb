{
  "nbformat": 4,
  "nbformat_minor": 0,
  "metadata": {
    "colab": {
      "provenance": []
    },
    "kernelspec": {
      "name": "python3",
      "display_name": "Python 3"
    },
    "language_info": {
      "name": "python"
    }
  },
  "cells": [
    {
      "cell_type": "markdown",
      "source": [
        "# Assignment Topic: Pandas Advance\n",
        "\n",
        "### Done By: Akshaj Piri"
      ],
      "metadata": {
        "id": "wDGlVKA53j4g"
      }
    },
    {
      "cell_type": "markdown",
      "source": [
        "**Question 1**: List any five functions of the pandas library with execution."
      ],
      "metadata": {
        "id": "tUqq_MrN3p9T"
      }
    },
    {
      "cell_type": "markdown",
      "source": [
        "Five commonly used functions in the pandas library with their execution are:"
      ],
      "metadata": {
        "id": "K1FYxGdZmfJz"
      }
    },
    {
      "cell_type": "markdown",
      "source": [
        "**read_csv()**: This function is used to read a CSV file and create a DataFrame."
      ],
      "metadata": {
        "id": "pJtXCexdmiR3"
      }
    },
    {
      "cell_type": "code",
      "source": [
        "# Example\n",
        "\n",
        "import pandas as pd\n",
        "\n",
        "# Read a CSV file into a DataFrame\n",
        "df = pd.read_csv('train.csv')"
      ],
      "metadata": {
        "id": "WXkYx5Aj3-yL"
      },
      "execution_count": 9,
      "outputs": []
    },
    {
      "cell_type": "markdown",
      "source": [
        "**head()**: This function is used to display the first few rows of a DataFrame."
      ],
      "metadata": {
        "id": "kEEpcQSLmkCF"
      }
    },
    {
      "cell_type": "code",
      "source": [
        "# Example\n",
        "\n",
        "import pandas as pd\n",
        "\n",
        "# Read a CSV file into a DataFrame\n",
        "df = pd.read_csv('train.csv')\n",
        "\n",
        "# Display the first 5 rows of the DataFrame\n",
        "print(df.head())"
      ],
      "metadata": {
        "colab": {
          "base_uri": "https://localhost:8080/"
        },
        "id": "OW9f2YjWmkOM",
        "outputId": "5aa3bbb8-1d66-4c1e-ebf2-c14b58e1aae6"
      },
      "execution_count": 10,
      "outputs": [
        {
          "output_type": "stream",
          "name": "stdout",
          "text": [
            "   PassengerId  Survived  Pclass  \\\n",
            "0            1         0       3   \n",
            "1            2         1       1   \n",
            "2            3         1       3   \n",
            "3            4         1       1   \n",
            "4            5         0       3   \n",
            "\n",
            "                                                Name     Sex   Age  SibSp  \\\n",
            "0                            Braund, Mr. Owen Harris    male  22.0      1   \n",
            "1  Cumings, Mrs. John Bradley (Florence Briggs Th...  female  38.0      1   \n",
            "2                             Heikkinen, Miss. Laina  female  26.0      0   \n",
            "3       Futrelle, Mrs. Jacques Heath (Lily May Peel)  female  35.0      1   \n",
            "4                           Allen, Mr. William Henry    male  35.0      0   \n",
            "\n",
            "   Parch            Ticket     Fare Cabin Embarked  \n",
            "0      0         A/5 21171   7.2500   NaN        S  \n",
            "1      0          PC 17599  71.2833   C85        C  \n",
            "2      0  STON/O2. 3101282   7.9250   NaN        S  \n",
            "3      0            113803  53.1000  C123        S  \n",
            "4      0            373450   8.0500   NaN        S  \n"
          ]
        }
      ]
    },
    {
      "cell_type": "markdown",
      "source": [
        "**info()**: This function provides information about the DataFrame, including the data types and number of non-null values in each column."
      ],
      "metadata": {
        "id": "q5ZBCJDcmkly"
      }
    },
    {
      "cell_type": "code",
      "source": [
        "# Example\n",
        "\n",
        "import pandas as pd\n",
        "\n",
        "# Read a CSV file into a DataFrame\n",
        "df = pd.read_csv('train.csv')\n",
        "\n",
        "# Display information about the DataFrame\n",
        "print(df.info())"
      ],
      "metadata": {
        "colab": {
          "base_uri": "https://localhost:8080/"
        },
        "id": "1aILDwKPmk5p",
        "outputId": "7ea634cc-315f-4bbc-82d4-69b910b4a7b0"
      },
      "execution_count": 11,
      "outputs": [
        {
          "output_type": "stream",
          "name": "stdout",
          "text": [
            "<class 'pandas.core.frame.DataFrame'>\n",
            "RangeIndex: 891 entries, 0 to 890\n",
            "Data columns (total 12 columns):\n",
            " #   Column       Non-Null Count  Dtype  \n",
            "---  ------       --------------  -----  \n",
            " 0   PassengerId  891 non-null    int64  \n",
            " 1   Survived     891 non-null    int64  \n",
            " 2   Pclass       891 non-null    int64  \n",
            " 3   Name         891 non-null    object \n",
            " 4   Sex          891 non-null    object \n",
            " 5   Age          714 non-null    float64\n",
            " 6   SibSp        891 non-null    int64  \n",
            " 7   Parch        891 non-null    int64  \n",
            " 8   Ticket       891 non-null    object \n",
            " 9   Fare         891 non-null    float64\n",
            " 10  Cabin        204 non-null    object \n",
            " 11  Embarked     889 non-null    object \n",
            "dtypes: float64(2), int64(5), object(5)\n",
            "memory usage: 83.7+ KB\n",
            "None\n"
          ]
        }
      ]
    },
    {
      "cell_type": "markdown",
      "source": [
        "**describe()**: This function generates descriptive statistics of the DataFrame, including count, mean, standard deviation, minimum, maximum, and quartiles."
      ],
      "metadata": {
        "id": "_4AO8XTqmlJu"
      }
    },
    {
      "cell_type": "code",
      "source": [
        "# Example\n",
        "\n",
        "import pandas as pd\n",
        "\n",
        "# Read a CSV file into a DataFrame\n",
        "df = pd.read_csv('train.csv')\n",
        "\n",
        "# Generate descriptive statistics of the DataFrame\n",
        "print(df.describe())"
      ],
      "metadata": {
        "colab": {
          "base_uri": "https://localhost:8080/"
        },
        "id": "dwqrDud6mlV_",
        "outputId": "ceeaed7d-6d39-4e44-e47b-a328a7a45c3e"
      },
      "execution_count": 12,
      "outputs": [
        {
          "output_type": "stream",
          "name": "stdout",
          "text": [
            "       PassengerId    Survived      Pclass         Age       SibSp  \\\n",
            "count   891.000000  891.000000  891.000000  714.000000  891.000000   \n",
            "mean    446.000000    0.383838    2.308642   29.699118    0.523008   \n",
            "std     257.353842    0.486592    0.836071   14.526497    1.102743   \n",
            "min       1.000000    0.000000    1.000000    0.420000    0.000000   \n",
            "25%     223.500000    0.000000    2.000000   20.125000    0.000000   \n",
            "50%     446.000000    0.000000    3.000000   28.000000    0.000000   \n",
            "75%     668.500000    1.000000    3.000000   38.000000    1.000000   \n",
            "max     891.000000    1.000000    3.000000   80.000000    8.000000   \n",
            "\n",
            "            Parch        Fare  \n",
            "count  891.000000  891.000000  \n",
            "mean     0.381594   32.204208  \n",
            "std      0.806057   49.693429  \n",
            "min      0.000000    0.000000  \n",
            "25%      0.000000    7.910400  \n",
            "50%      0.000000   14.454200  \n",
            "75%      0.000000   31.000000  \n",
            "max      6.000000  512.329200  \n"
          ]
        }
      ]
    },
    {
      "cell_type": "markdown",
      "source": [
        "**groupby()**: This function is used to group the data in a DataFrame based on one or more columns and perform aggregations on the groups."
      ],
      "metadata": {
        "id": "k7mGhcJZmli-"
      }
    },
    {
      "cell_type": "code",
      "source": [
        "# Example\n",
        "\n",
        "import pandas as pd\n",
        "\n",
        "# Read a CSV file into a DataFrame\n",
        "df = pd.read_csv('train.csv')\n",
        "\n",
        "# Group the data by 'category' column and calculate the mean of 'value' column for each group\n",
        "grouped_df = df.groupby('PassengerId')['Survived'].mean()\n",
        "print(grouped_df)"
      ],
      "metadata": {
        "colab": {
          "base_uri": "https://localhost:8080/"
        },
        "id": "x5-RFW5YmltZ",
        "outputId": "94b305d3-3f18-42c7-fe13-d5d307ba17ad"
      },
      "execution_count": 15,
      "outputs": [
        {
          "output_type": "stream",
          "name": "stdout",
          "text": [
            "PassengerId\n",
            "1      0.0\n",
            "2      1.0\n",
            "3      1.0\n",
            "4      1.0\n",
            "5      0.0\n",
            "      ... \n",
            "887    0.0\n",
            "888    1.0\n",
            "889    0.0\n",
            "890    1.0\n",
            "891    0.0\n",
            "Name: Survived, Length: 891, dtype: float64\n"
          ]
        }
      ]
    },
    {
      "cell_type": "markdown",
      "source": [
        "**Question 2**: Given a Pandas DataFrame df with columns 'A', 'B', and 'C', write a Python function to re-index the DataFrame with a new index that starts from 1 and increments by 2 for each row."
      ],
      "metadata": {
        "id": "UggGCJWv32Vd"
      }
    },
    {
      "cell_type": "code",
      "source": [
        "import pandas as pd\n",
        "\n",
        "def reindex_dataframe(df):\n",
        "    # Reset the index of the DataFrame starting from 0\n",
        "    df.reset_index(drop=True, inplace=True)\n",
        "    \n",
        "    # Create a new index starting from 1 and incrementing by 2\n",
        "    new_index = pd.RangeIndex(start=1, stop=len(df)*2, step=2)\n",
        "    \n",
        "    # Assign the new index to the DataFrame\n",
        "    df.index = new_index\n",
        "    \n",
        "    return df"
      ],
      "metadata": {
        "id": "IsgFzfqh35yq"
      },
      "execution_count": 16,
      "outputs": []
    },
    {
      "cell_type": "markdown",
      "source": [
        "**Question 3**: You have a Pandas DataFrame df with a column named 'Values'. Write a Python function that iterates over the DataFrame and calculates the sum of the first three values in the 'Values' column. The function should print the sum to the console.\n",
        "\n",
        "For example, if the 'Values' column of df contains the values [10, 20, 30, 40, 50], your function should calculate and print the sum of the first three values, which is 60."
      ],
      "metadata": {
        "id": "1ejvEmWp32dV"
      }
    },
    {
      "cell_type": "code",
      "source": [
        "import pandas as pd\n",
        "\n",
        "def calculate_sum_of_first_three(df):\n",
        "    # Extract the 'Values' column as a Series\n",
        "    values_series = df['Values']\n",
        "    \n",
        "    # Get the first three values and calculate their sum\n",
        "    first_three_sum = values_series.head(3).sum()\n",
        "    \n",
        "    # Print the sum to the console\n",
        "    print(\"Sum of the first three values:\", first_three_sum)"
      ],
      "metadata": {
        "id": "bVahV1nPpngD"
      },
      "execution_count": 18,
      "outputs": []
    },
    {
      "cell_type": "code",
      "source": [
        "import pandas as pd\n",
        "\n",
        "# Create a sample DataFrame\n",
        "df = pd.DataFrame({'Values': [10, 20, 30, 40, 50]})\n",
        "\n",
        "# Call the function to calculate the sum\n",
        "calculate_sum_of_first_three(df)"
      ],
      "metadata": {
        "id": "63euDfdu37Do",
        "colab": {
          "base_uri": "https://localhost:8080/"
        },
        "outputId": "301c1748-c298-4f78-8309-1f874a4de50f"
      },
      "execution_count": 19,
      "outputs": [
        {
          "output_type": "stream",
          "name": "stdout",
          "text": [
            "Sum of the first three values: 60\n"
          ]
        }
      ]
    },
    {
      "cell_type": "markdown",
      "source": [
        "**Question 4**: Given a Pandas DataFrame df with a column 'Text', write a Python function to create a new column 'Word_Count' that contains the number of words in each row of the 'Text' column."
      ],
      "metadata": {
        "id": "2YmJpW-H32hD"
      }
    },
    {
      "cell_type": "code",
      "source": [
        "import pandas as pd\n",
        "\n",
        "def count_words(df):\n",
        "    # Split the 'Text' column into words and count the number of words\n",
        "    df['Word_Count'] = df['Text'].apply(lambda x: len(x.split()))"
      ],
      "metadata": {
        "id": "_zlyXstv385X"
      },
      "execution_count": 20,
      "outputs": []
    },
    {
      "cell_type": "code",
      "source": [
        "import pandas as pd\n",
        "\n",
        "# Create a sample DataFrame\n",
        "df = pd.DataFrame({'Text': ['This is a sentence', 'Another sentence with more words', 'Short sentence']})\n",
        "\n",
        "# Call the function to count words\n",
        "count_words(df)\n",
        "\n",
        "# Print the updated DataFrame\n",
        "print(df)"
      ],
      "metadata": {
        "colab": {
          "base_uri": "https://localhost:8080/"
        },
        "id": "1WjGcckXpy6m",
        "outputId": "aed8fab2-7287-472a-aefa-fecfab871657"
      },
      "execution_count": 21,
      "outputs": [
        {
          "output_type": "stream",
          "name": "stdout",
          "text": [
            "                               Text  Word_Count\n",
            "0                This is a sentence           4\n",
            "1  Another sentence with more words           5\n",
            "2                    Short sentence           2\n"
          ]
        }
      ]
    },
    {
      "cell_type": "markdown",
      "source": [
        "**Question 5**: How are DataFrame.size() and DataFrame.shape() different?"
      ],
      "metadata": {
        "id": "RceIbI0J32k1"
      }
    },
    {
      "cell_type": "markdown",
      "source": [
        "DataFrame.size and DataFrame.shape are two different attributes in Pandas DataFrame that provide different information about the DataFrame.\n",
        "\n",
        "- **DataFrame.size** returns the total number of elements in the DataFrame, which is equal to the number of rows multiplied by the number of columns. It represents the overall size of the DataFrame in terms of the number of elements.\n",
        "\n",
        "- **DataFrame.shape** returns a tuple that represents the dimensions of the DataFrame. It provides information about the number of rows and columns in the DataFrame. The tuple contains two elements: the first element represents the number of rows, and the second element represents the number of columns."
      ],
      "metadata": {
        "id": "2_D0kbqbp8s-"
      }
    },
    {
      "cell_type": "markdown",
      "source": [
        "**Question 6**: Which function of pandas do we use to read an excel file?"
      ],
      "metadata": {
        "id": "50tPH05f33WZ"
      }
    },
    {
      "cell_type": "markdown",
      "source": [
        "To read an Excel file using pandas, you can use the **pandas.read_excel()** function. This function allows you to read the contents of an Excel file into a pandas DataFrame."
      ],
      "metadata": {
        "id": "F1Lh-8s1qLlI"
      }
    },
    {
      "cell_type": "markdown",
      "source": [
        "**Question 7**: You have a Pandas DataFrame df that contains a column named 'Email' that contains email addresses in the format 'username@domain.com'. Write a Python function that creates a new column 'Username' in df that contains only the username part of each email address. \n",
        "\n",
        "The username is the part of the email address that appears before the '@' symbol. For example, if the email address is 'john.doe@example.com', the 'Username' column should contain 'john.doe'. Your function should extract the username from each email address and store it in the new 'Username' column."
      ],
      "metadata": {
        "id": "X6MoHwJ333g0"
      }
    },
    {
      "cell_type": "code",
      "source": [
        "import pandas as pd\n",
        "\n",
        "def extract_username(df):\n",
        "    # Split the email addresses and extract the username\n",
        "    df['Username'] = df['Email'].str.split('@').str[0]\n",
        "    \n",
        "    return df\n",
        "\n",
        "# Create a sample DataFrame\n",
        "df = pd.DataFrame({'Email': ['john.doe@example.com', 'jane.smith@example.com']})\n",
        "\n",
        "# Call the function to extract the username\n",
        "df = extract_username(df)\n",
        "\n",
        "# Print the updated DataFrame\n",
        "print(df)"
      ],
      "metadata": {
        "id": "9BbPqdWE4OzT",
        "colab": {
          "base_uri": "https://localhost:8080/"
        },
        "outputId": "3cbd8359-11c1-43f2-f034-d1a6d2e088aa"
      },
      "execution_count": 22,
      "outputs": [
        {
          "output_type": "stream",
          "name": "stdout",
          "text": [
            "                    Email    Username\n",
            "0    john.doe@example.com    john.doe\n",
            "1  jane.smith@example.com  jane.smith\n"
          ]
        }
      ]
    },
    {
      "cell_type": "markdown",
      "source": [
        "**Question 8**: You have a Pandas DataFrame df with columns 'A', 'B', and 'C'. Write a Python function that selects all rows where the value in column 'A' is greater than 5 and the value in column 'B' is less than 10. The\n",
        "function should return a new DataFrame that contains only the selected rows.\n",
        "\n",
        "For example, if df contains the following values:\n",
        "  \n",
        "– A B C\n",
        "\n",
        "0 3 5 1\n",
        "\n",
        "1 8 2 7\n",
        "\n",
        "2 6 9 4\n",
        "\n",
        "3 2 3 5\n",
        "\n",
        "4 9 1 2"
      ],
      "metadata": {
        "id": "BSVwpkTk33oh"
      }
    },
    {
      "cell_type": "code",
      "source": [
        "import pandas as pd\n",
        "\n",
        "def select_rows(df):\n",
        "    # Select rows where column 'A' > 5 and column 'B' < 10\n",
        "    selected_rows = df[(df['A'] > 5) & (df['B'] < 10)]\n",
        "    \n",
        "    return selected_rows\n",
        "\n",
        "# Create a sample DataFrame\n",
        "df = pd.DataFrame({'A': [3, 8, 6, 2, 9],\n",
        "                   'B': [5, 2, 9, 3, 1],\n",
        "                   'C': [1, 7, 4, 5, 2]})\n",
        "\n",
        "# Call the function to select rows\n",
        "selected_df = select_rows(df)\n",
        "\n",
        "# Print the selected DataFrame\n",
        "print(selected_df)"
      ],
      "metadata": {
        "id": "o5oVessz4SSW",
        "colab": {
          "base_uri": "https://localhost:8080/"
        },
        "outputId": "e17be931-2385-4e7d-c625-35a8e6667aa2"
      },
      "execution_count": 23,
      "outputs": [
        {
          "output_type": "stream",
          "name": "stdout",
          "text": [
            "   A  B  C\n",
            "1  8  2  7\n",
            "2  6  9  4\n",
            "4  9  1  2\n"
          ]
        }
      ]
    }
  ]
}