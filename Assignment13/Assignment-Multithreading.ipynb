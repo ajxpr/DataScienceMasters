{
  "nbformat": 4,
  "nbformat_minor": 0,
  "metadata": {
    "colab": {
      "provenance": []
    },
    "kernelspec": {
      "name": "python3",
      "display_name": "Python 3"
    },
    "language_info": {
      "name": "python"
    }
  },
  "cells": [
    {
      "cell_type": "markdown",
      "source": [
        "# Assignment Topic: Multithreading\n",
        "\n",
        "### Done By: Akshaj Piri"
      ],
      "metadata": {
        "id": "wDGlVKA53j4g"
      }
    },
    {
      "cell_type": "markdown",
      "source": [
        "**Question 1**: What is multithreading in python? Why is it used? Name the module used to handle threads in python."
      ],
      "metadata": {
        "id": "tUqq_MrN3p9T"
      }
    },
    {
      "cell_type": "markdown",
      "source": [
        "Multithreading in Python refers to the ability to run multiple threads (smaller units of execution) concurrently within a single program. Each thread represents an independent flow of execution that can perform tasks concurrently with other threads. Threads allow for parallelism and can help improve the efficiency of a program by utilizing multiple CPU cores.\n",
        "\n",
        "Multithreading is used in Python to achieve concurrency and to perform tasks concurrently, especially when tasks are I/O-bound or involve waiting for external resources. By using multiple threads, it is possible to perform multiple tasks simultaneously and make better use of available system resources.\n",
        "\n",
        "The threading module in Python is used to handle threads. It provides a high-level interface for creating and managing threads in Python programs. The threading module allows you to create new threads, start them, stop them, and coordinate their execution. It also provides synchronization primitives like locks, events, and condition variables for managing thread synchronization and communication."
      ],
      "metadata": {
        "id": "3HQsWbj4L4tt"
      }
    },
    {
      "cell_type": "code",
      "source": [
        "import threading\n",
        "\n",
        "def print_numbers():\n",
        "    for i in range(1, 6):\n",
        "        print(i)\n",
        "\n",
        "# Create a new thread\n",
        "thread = threading.Thread(target=print_numbers)\n",
        "\n",
        "# Start the thread\n",
        "thread.start()\n",
        "\n",
        "# Main thread continues its execution\n",
        "print(\"Main thread\")\n",
        "\n",
        "# Wait for the thread to finish\n",
        "thread.join()"
      ],
      "metadata": {
        "id": "WXkYx5Aj3-yL",
        "colab": {
          "base_uri": "https://localhost:8080/"
        },
        "outputId": "59ff2cba-da57-4680-ef41-3ac2b0504958"
      },
      "execution_count": 1,
      "outputs": [
        {
          "output_type": "stream",
          "name": "stdout",
          "text": [
            "1\n",
            "2\n",
            "3\n",
            "4\n",
            "5\n",
            "Main thread\n"
          ]
        }
      ]
    },
    {
      "cell_type": "markdown",
      "source": [
        "**Question 2**: Why threading module used? rite the use of the following functions:\n",
        "\n",
        "1. activeCount\n",
        "\n",
        "2. currentThread\n",
        "\n",
        "3. enumerate"
      ],
      "metadata": {
        "id": "UggGCJWv32Vd"
      }
    },
    {
      "cell_type": "markdown",
      "source": [
        "`activeCount()`: This function is used to return the number of Thread objects currently alive. It returns the count of all active threads, including the main thread. This function can be useful to monitor the number of active threads in a program."
      ],
      "metadata": {
        "id": "EtLqoOm2MG0N"
      }
    },
    {
      "cell_type": "code",
      "source": [
        "import threading\n",
        "\n",
        "def worker():\n",
        "    print(\"Worker thread\")\n",
        "\n",
        "# Create and start a worker thread\n",
        "thread = threading.Thread(target=worker)\n",
        "thread.start()\n",
        "\n",
        "# Get the number of active threads\n",
        "num_threads = threading.activeCount()\n",
        "print(\"Number of active threads:\", num_threads)"
      ],
      "metadata": {
        "id": "IsgFzfqh35yq",
        "colab": {
          "base_uri": "https://localhost:8080/"
        },
        "outputId": "d67c653f-cb25-4d1d-93fc-71481d7f58a3"
      },
      "execution_count": 2,
      "outputs": [
        {
          "output_type": "stream",
          "name": "stdout",
          "text": [
            "Worker threadNumber of active threads: 6\n"
          ]
        },
        {
          "output_type": "stream",
          "name": "stderr",
          "text": [
            "<ipython-input-2-eb2149b07522>:11: DeprecationWarning: activeCount() is deprecated, use active_count() instead\n",
            "  num_threads = threading.activeCount()\n"
          ]
        },
        {
          "output_type": "stream",
          "name": "stdout",
          "text": [
            "\n"
          ]
        }
      ]
    },
    {
      "cell_type": "markdown",
      "source": [
        "`currentThread()`: This function returns the Thread object representing the current thread of execution. It can be used to get information or manipulate the current thread."
      ],
      "metadata": {
        "id": "EiDz-Rg6MMv8"
      }
    },
    {
      "cell_type": "code",
      "source": [
        "import threading\n",
        "\n",
        "def print_thread_name():\n",
        "    current_thread = threading.currentThread()\n",
        "    thread_name = current_thread.name\n",
        "    print(\"Current thread name:\", thread_name)\n",
        "\n",
        "# Create and start a worker thread\n",
        "thread = threading.Thread(target=print_thread_name)\n",
        "thread.start()\n",
        "\n",
        "# Wait for the worker thread to finish\n",
        "thread.join()"
      ],
      "metadata": {
        "colab": {
          "base_uri": "https://localhost:8080/"
        },
        "id": "K3JOmronMM-A",
        "outputId": "8750dd0a-4969-468a-d2b3-7a57cd4f116e"
      },
      "execution_count": 3,
      "outputs": [
        {
          "output_type": "stream",
          "name": "stdout",
          "text": [
            "Current thread name: Thread-12 (print_thread_name)\n"
          ]
        },
        {
          "output_type": "stream",
          "name": "stderr",
          "text": [
            "<ipython-input-3-9a37c0f31531>:4: DeprecationWarning: currentThread() is deprecated, use current_thread() instead\n",
            "  current_thread = threading.currentThread()\n"
          ]
        }
      ]
    },
    {
      "cell_type": "markdown",
      "source": [
        "`enumerate()`: This function returns a list of all Thread objects currently alive. It can be used to get a list of all active threads in a program. By default, it returns a list containing the main thread and all active worker threads."
      ],
      "metadata": {
        "id": "QPbM8duyMNU4"
      }
    },
    {
      "cell_type": "code",
      "source": [
        "import threading\n",
        "\n",
        "def worker():\n",
        "    print(\"Worker thread\")\n",
        "\n",
        "# Create and start a worker thread\n",
        "thread = threading.Thread(target=worker)\n",
        "thread.start()\n",
        "\n",
        "# Get a list of all active threads\n",
        "thread_list = threading.enumerate()\n",
        "\n",
        "# Print the thread names\n",
        "for thread in thread_list:\n",
        "    print(\"Thread name:\", thread.name)"
      ],
      "metadata": {
        "colab": {
          "base_uri": "https://localhost:8080/"
        },
        "id": "UtPbJfePMNl3",
        "outputId": "2d8fe357-7d9a-42fd-a54c-098eb6932bcd"
      },
      "execution_count": 4,
      "outputs": [
        {
          "output_type": "stream",
          "name": "stdout",
          "text": [
            "Worker threadThread name:\n",
            " MainThread\n",
            "Thread name: Thread-2 (_thread_main)\n",
            "Thread name: Thread-3\n",
            "Thread name: Thread-1\n",
            "Thread name: _colab_inspector_thread\n",
            "Thread name: Thread-13 (worker)\n"
          ]
        }
      ]
    },
    {
      "cell_type": "markdown",
      "source": [
        "**Question 3**: Explain the following functions:\n",
        "\n",
        "1. run()\n",
        "2. start()\n",
        "3. join()\n",
        "4. isAlive()"
      ],
      "metadata": {
        "id": "1ejvEmWp32dV"
      }
    },
    {
      "cell_type": "markdown",
      "source": [
        "1. `run(`): The run() method is the entry point for the thread's activity. It defines the behavior of the thread when it is executed.\n",
        "\n",
        "2. `start()`: The start() method is used to start the execution of a thread. It creates a new thread of execution and calls the run() method for that thread.\n",
        "\n",
        "3. `join()`: The join() method is used to wait for the completion of a thread. It blocks the calling thread until the thread on which it is called finishes its execution.\n",
        "\n",
        "4. `isAlive()`: The isAlive() method is used to check whether a thread is currently active or alive. "
      ],
      "metadata": {
        "id": "A6xlpkJaM7fw"
      }
    },
    {
      "cell_type": "markdown",
      "source": [
        "**Question 4**: Write a python program to create two threads. Thread one must print the list of squares and thread two must print the list of cubes."
      ],
      "metadata": {
        "id": "2YmJpW-H32hD"
      }
    },
    {
      "cell_type": "code",
      "source": [
        "import threading\n",
        "\n",
        "def print_squares():\n",
        "    for i in range(1, 11):\n",
        "        print(f\"Square of {i}: {i*i}\")\n",
        "\n",
        "def print_cubes():\n",
        "    for i in range(1, 11):\n",
        "        print(f\"Cube of {i}: {i*i*i}\")\n",
        "\n",
        "# Create the first thread for printing squares\n",
        "thread1 = threading.Thread(target=print_squares)\n",
        "\n",
        "# Create the second thread for printing cubes\n",
        "thread2 = threading.Thread(target=print_cubes)\n",
        "\n",
        "# Start both threads\n",
        "thread1.start()\n",
        "thread2.start()\n",
        "\n",
        "# Wait for both threads to finish using join()\n",
        "thread1.join()\n",
        "thread2.join()\n",
        "\n",
        "print(\"Main thread exiting.\")"
      ],
      "metadata": {
        "id": "_zlyXstv385X",
        "colab": {
          "base_uri": "https://localhost:8080/"
        },
        "outputId": "f6fe527c-da56-457e-f830-8f3fbe424d2c"
      },
      "execution_count": 5,
      "outputs": [
        {
          "output_type": "stream",
          "name": "stdout",
          "text": [
            "Square of 1: 1\n",
            "Square of 2: 4\n",
            "Square of 3: 9\n",
            "Square of 4: 16\n",
            "Square of 5: 25\n",
            "Square of 6: 36\n",
            "Square of 7: 49\n",
            "Square of 8: 64\n",
            "Square of 9: 81\n",
            "Square of 10: 100\n",
            "Cube of 1: 1\n",
            "Cube of 2: 8\n",
            "Cube of 3: 27\n",
            "Cube of 4: 64\n",
            "Cube of 5: 125\n",
            "Cube of 6: 216\n",
            "Cube of 7: 343\n",
            "Cube of 8: 512\n",
            "Cube of 9: 729\n",
            "Cube of 10: 1000\n",
            "Main thread exiting.\n"
          ]
        }
      ]
    },
    {
      "cell_type": "markdown",
      "source": [
        "**Question 5**: State advantages and disadvantages of multithreading."
      ],
      "metadata": {
        "id": "RceIbI0J32k1"
      }
    },
    {
      "cell_type": "markdown",
      "source": [
        "Multithreading offers several advantages and disadvantages. Here are some of them:"
      ],
      "metadata": {
        "id": "XpxJRK7VNY6Y"
      }
    },
    {
      "cell_type": "markdown",
      "source": [
        "Advantages of Multithreading:\n",
        "\n",
        "1. Improved Responsiveness: Multithreading allows concurrent execution of multiple tasks, enabling the program to remain responsive even when performing lengthy operations. It can keep the application interactive and prevent it from becoming unresponsive or freezing.\n",
        "\n",
        "2. Enhanced Performance: By utilizing multiple threads, it becomes possible to execute multiple tasks simultaneously, thereby improving the overall performance of the program. This can be particularly beneficial in scenarios where tasks can run independently and in parallel.\n",
        "\n",
        "3. Efficient Resource Utilization: Multithreading allows for efficient utilization of system resources, such as CPU time and memory. Instead of waiting for one task to complete before starting another, threads can be used to overlap computations and maximize resource utilization."
      ],
      "metadata": {
        "id": "JLzLhxWWNbOB"
      }
    },
    {
      "cell_type": "markdown",
      "source": [
        "Disadvantages of Multithreading:\n",
        "\n",
        "1. Increased Complexity: Multithreaded programming introduces complexity due to the need for synchronization and coordination between threads. Dealing with shared resources, race conditions, and deadlocks can be challenging and require careful design and implementation.\n",
        "\n",
        "2. Difficult Debugging: Debugging multithreaded programs can be more complex than debugging single-threaded ones. Issues such as race conditions or thread synchronization problems may occur intermittently and can be hard to reproduce and diagnose.\n",
        "\n",
        "3. Resource Contentions: When multiple threads access shared resources simultaneously, contention may arise, leading to performance degradation or unexpected behavior. Proper synchronization mechanisms, such as locks or semaphores, need to be implemented to avoid resource conflicts."
      ],
      "metadata": {
        "id": "rsv1ZNXKNbUV"
      }
    },
    {
      "cell_type": "markdown",
      "source": [
        "**Question 6**: Explain deadlocks and race conditions."
      ],
      "metadata": {
        "id": "50tPH05f33WZ"
      }
    },
    {
      "cell_type": "markdown",
      "source": [
        "Deadlock and race condition are two common concurrency-related issues that can occur in multithreaded programs. Here's an explanation of each:\n",
        "\n",
        "`**Deadlock**`:\n",
        "Deadlock is a situation where two or more threads are blocked indefinitely, waiting for each other to release resources or complete certain actions. It occurs when two or more threads acquire exclusive locks or resources and are unable to proceed because each is waiting for the other to release the resource. This creates a situation where the threads are stuck, and the program cannot make progress.\n",
        "\n",
        "`**Race Condition**`:\n",
        "A race condition occurs when multiple threads access and manipulate a shared resource concurrently, leading to unpredictable or unintended behavior. It arises due to the non-deterministic interleaving of thread execution, where the outcome of the program depends on the specific order in which threads are scheduled to execute."
      ],
      "metadata": {
        "id": "Jy98Il9WNqZi"
      }
    },
    {
      "cell_type": "code",
      "source": [],
      "metadata": {
        "id": "21j0iXJpNz-7"
      },
      "execution_count": null,
      "outputs": []
    }
  ]
}