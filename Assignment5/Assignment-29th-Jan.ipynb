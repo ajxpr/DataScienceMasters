{
  "nbformat": 4,
  "nbformat_minor": 0,
  "metadata": {
    "colab": {
      "provenance": []
    },
    "kernelspec": {
      "name": "python3",
      "display_name": "Python 3"
    },
    "language_info": {
      "name": "python"
    }
  },
  "cells": [
    {
      "cell_type": "markdown",
      "source": [
        "# Assignment Topic: \n",
        "\n",
        "### Done By: Name"
      ],
      "metadata": {
        "id": "wDGlVKA53j4g"
      }
    },
    {
      "cell_type": "markdown",
      "source": [
        "**Question 1**: Who developed Python Programming Language?"
      ],
      "metadata": {
        "id": "tUqq_MrN3p9T"
      }
    },
    {
      "cell_type": "markdown",
      "source": [
        "The Python programming language was developed by `Guido van Rossum`."
      ],
      "metadata": {
        "id": "kvckA68xD8g8"
      }
    },
    {
      "cell_type": "markdown",
      "source": [
        "**Question 2**: Which type of Programming does Python support?"
      ],
      "metadata": {
        "id": "UggGCJWv32Vd"
      }
    },
    {
      "cell_type": "markdown",
      "source": [
        "Python supports multiple programming paradigms, making it a versatile language. The main programming paradigms supported by Python are:\n",
        "\n",
        "1. Procedural Programming\n",
        "\n",
        "2. Object-Oriented Programming (OOP)\n",
        "\n",
        "3. Functional Programming\n",
        "\n",
        "4. Imperative Programming\n",
        "\n",
        "5. Scripting\n",
        "\n",
        "6. Dynamic Programming"
      ],
      "metadata": {
        "id": "UhmmG6bvEGKV"
      }
    },
    {
      "cell_type": "markdown",
      "source": [
        "**Question 3**: Is Python case sensitive when dealing with identifiers?"
      ],
      "metadata": {
        "id": "1ejvEmWp32dV"
      }
    },
    {
      "cell_type": "markdown",
      "source": [
        "Yes, Python is case-sensitive when dealing with identifiers."
      ],
      "metadata": {
        "id": "jlUo6DumEhSX"
      }
    },
    {
      "cell_type": "markdown",
      "source": [
        "**Question 4**: What is the correct extension of the Python file? "
      ],
      "metadata": {
        "id": "2YmJpW-H32hD"
      }
    },
    {
      "cell_type": "markdown",
      "source": [
        "The correct extension of the Python file is `.py`"
      ],
      "metadata": {
        "id": "9el59BdOEnYj"
      }
    },
    {
      "cell_type": "markdown",
      "source": [
        "**Question 5**: Is Python code compiled or interpreted?"
      ],
      "metadata": {
        "id": "RceIbI0J32k1"
      }
    },
    {
      "cell_type": "markdown",
      "source": [
        "Python code is both compiled and interpreted."
      ],
      "metadata": {
        "id": "1EpfXx9gEyN1"
      }
    },
    {
      "cell_type": "markdown",
      "source": [
        "**Question 6**: Name a few blocks of code used to define in Python language?"
      ],
      "metadata": {
        "id": "50tPH05f33WZ"
      }
    },
    {
      "cell_type": "markdown",
      "source": [
        "Code blocks in Python are:\n",
        "1. Function Definition\n",
        "\n",
        "2. Conditional Statements\n",
        "\n",
        "3. Looping Statements"
      ],
      "metadata": {
        "id": "PnwuYWNRE5gC"
      }
    },
    {
      "cell_type": "markdown",
      "source": [
        "**Question 7**: State a character used to give single-line comments in Python?"
      ],
      "metadata": {
        "id": "X6MoHwJ333g0"
      }
    },
    {
      "cell_type": "markdown",
      "source": [
        "The character used to give single-line comments in Python is the hash symbol `#`"
      ],
      "metadata": {
        "id": "fVRPyHfME7V_"
      }
    },
    {
      "cell_type": "markdown",
      "source": [
        "**Question 8**: Mention functions which can help us to find the version of python that we are currently working on? "
      ],
      "metadata": {
        "id": "BSVwpkTk33oh"
      }
    },
    {
      "cell_type": "markdown",
      "source": [
        "There are a few functions that can help you find the version of Python you are currently working on:\n",
        "\n",
        "1. sys.version\n",
        "\n",
        "2. sys.version_info\n",
        "\n",
        "3. platform.python_version()\n"
      ],
      "metadata": {
        "id": "jtE7ymd5E8D3"
      }
    },
    {
      "cell_type": "markdown",
      "source": [
        "**Question 9**: Python supports the creation of anonymous functions at runtime, using a construct called _ _ _ _ _ _ _ _ _ _"
      ],
      "metadata": {
        "id": "hGfcK6y_33zk"
      }
    },
    {
      "cell_type": "markdown",
      "source": [
        "Python supports the creation of anonymous functions at runtime using a construct called `lambda functions`."
      ],
      "metadata": {
        "id": "SuWHzQQkE8o7"
      }
    },
    {
      "cell_type": "markdown",
      "source": [
        "**Question 10**: What does pip stand for python?"
      ],
      "metadata": {
        "id": "LJZFkP6u34FQ"
      }
    },
    {
      "cell_type": "markdown",
      "source": [
        "PIP in Python stands for `Pip Installs Packages`."
      ],
      "metadata": {
        "id": "6dbWvo4-E9gc"
      }
    },
    {
      "cell_type": "markdown",
      "source": [
        "**Question 11**: Mention a few built-in functions in python? "
      ],
      "metadata": {
        "id": "nufOmGElE_BK"
      }
    },
    {
      "cell_type": "markdown",
      "source": [
        "Few commonly used built-in functions in Python:\n",
        "\n",
        "1. print()\n",
        "\n",
        "2. len()\n",
        "\n",
        "3. type()\n",
        "\n",
        "4. input()\n",
        "\n",
        "5. int()"
      ],
      "metadata": {
        "id": "Odl30IEzE_BL"
      }
    },
    {
      "cell_type": "markdown",
      "source": [
        "**Question 12**: What is the maximum possible length of an identifier in Python? "
      ],
      "metadata": {
        "id": "3huHxRxEE_Wy"
      }
    },
    {
      "cell_type": "markdown",
      "source": [
        "In Python, the maximum possible length of an identifier is not explicitly defined. The Python language specification states that an identifier can be of any length, but it is better to keep them reasonably short for the sake of readability and maintainability."
      ],
      "metadata": {
        "id": "-42B1Mz3E_Wz"
      }
    },
    {
      "cell_type": "markdown",
      "source": [
        "**Question 13**: What are the benefits of using Python?"
      ],
      "metadata": {
        "id": "hgCrcgKgE_gp"
      }
    },
    {
      "cell_type": "markdown",
      "source": [
        "There are several benefits of using Python as a programming language:\n",
        "\n",
        "1. Readability and Simplicity\n",
        "\n",
        "2. Wide Range of Applications\n",
        "\n",
        "3. Large and Active Community\n",
        "\n",
        "4. Cross-Platform Compatibility\n",
        "\n",
        "5. Productivity and Rapid Development\n",
        "\n",
        "6. Integration and Extensibility\n",
        "\n",
        "7. Scalability and Performance"
      ],
      "metadata": {
        "id": "RxLoSPfuE_gp"
      }
    },
    {
      "cell_type": "markdown",
      "source": [
        "**Question 14**: How is memory managed in Python?"
      ],
      "metadata": {
        "id": "_yHDfH01FAZW"
      }
    },
    {
      "cell_type": "markdown",
      "source": [
        "Memory management in Python is primarily managed through the combination of the following techniques:\n",
        "1. Reference Counting\n",
        "\n",
        "2. Garbage Collection\n",
        "\n",
        "3. Memory Allocation\n",
        "\n",
        "4. Automatic Memory Management"
      ],
      "metadata": {
        "id": "C98anSjbFAZW"
      }
    },
    {
      "cell_type": "markdown",
      "source": [
        "**Question 15**: How to install Python on Windows and set path variables?"
      ],
      "metadata": {
        "id": "loGw7MicFAnB"
      }
    },
    {
      "cell_type": "markdown",
      "source": [
        "To install Python on Windows and set up the path variables, you can follow these steps:\n",
        "\n",
        "1. **Download Python**: Go to the official Python website (https://www.python.org) and navigate to the Downloads section. Choose the appropriate Python version for your system (e.g., Python 3.9.6) and select the Windows installer that matches your system architecture (32-bit or 64-bit). Download the installer.\n",
        "\n",
        "\n",
        "2. **Run the Installer**: Locate the downloaded installer file and double-click on it to run the installation. Check the box that says \"Add Python X.X to PATH\" (where X.X represents the Python version) and choose the \"Customize installation\" option.\n",
        "\n",
        "\n",
        "3. **Customize Installation**: In the customization options, you can choose the components to install. Ensure that the \"Add Python to PATH\" option is selected. You can also choose additional components such as pip (Python package manager) and documentation. Click on the \"Next\" button.\n",
        "\n",
        "\n",
        "4. **Choose Installation Location**: Choose the installation location for Python or keep the default. Click on the \"Install\" button to start the installation process.\n",
        "\n",
        "\n",
        "5. **Install Python**: The installer will now install Python on your system. Once the installation is complete, you will see a \"Setup was successful\" message.\n",
        "\n",
        "\n",
        "6. **Verify Installation**: Open the Command Prompt by pressing the Windows key + R, then type \"cmd\" and press Enter. In the Command Prompt, type \"python\" and press Enter. You should see the Python version and the Python prompt (>>>) indicating that Python is installed and accessible.\n",
        "\n",
        "\n",
        "7. **Setting Path Variables**: To set up the path variables, follow these steps:\n",
        "\n",
        "  - Right-click on the \"This PC\" or \"My Computer\" icon on your desktop and select \"Properties.\"\n",
        "\n",
        "  - In the System window, click on \"Advanced system settings\" on the left side.\n",
        "  \n",
        "  - In the System Properties window, click on the \"Environment Variables\" \n",
        "  button.\n",
        "  \n",
        "  - In the Environment Variables window, under the \"System variables\" section, scroll down and select the \"Path\" variable, then click on the \"Edit\" button.\n",
        "  \n",
        "  - In the Edit Environment Variable window, click on the \"New\" button and add the following paths (replace X.X with the Python version):\n",
        "      \n",
        "      - `C:\\PythonXX\\` (the main Python installation directory)\n",
        "      \n",
        "      - `C:\\PythonXX\\Scripts\\` (to access Python scripts)\n",
        "  \n",
        "  - Click \"OK\" to save the changes and close all the windows."
      ],
      "metadata": {
        "id": "REBun1MTFAnC"
      }
    },
    {
      "cell_type": "markdown",
      "source": [
        "**Question 16**: Is indentation required in python? "
      ],
      "metadata": {
        "id": "ZhbNYCPXFAuY"
      }
    },
    {
      "cell_type": "markdown",
      "source": [
        "Yes, indentation is required in Python. Unlike many other programming languages that use braces or other symbols to define blocks of code, Python uses indentation to indicate the structure and hierarchy of the code. \n",
        "\n",
        "So that's why it is very important."
      ],
      "metadata": {
        "id": "1P_FPaa6FAuZ"
      }
    }
  ]
}