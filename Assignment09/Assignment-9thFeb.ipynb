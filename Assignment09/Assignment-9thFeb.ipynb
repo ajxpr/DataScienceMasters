{
  "nbformat": 4,
  "nbformat_minor": 0,
  "metadata": {
    "colab": {
      "provenance": []
    },
    "kernelspec": {
      "name": "python3",
      "display_name": "Python 3"
    },
    "language_info": {
      "name": "python"
    }
  },
  "cells": [
    {
      "cell_type": "markdown",
      "source": [
        "# Assignment Topic: OOPS Task\n",
        "\n",
        "### Done By: Akshaj Piri"
      ],
      "metadata": {
        "id": "wDGlVKA53j4g"
      }
    },
    {
      "cell_type": "markdown",
      "source": [
        "**Question 1**: Create a vehicle class with an init method having instance variables as name_of_vehicle, max_speed\n",
        "and average_of_vehicle."
      ],
      "metadata": {
        "id": "tUqq_MrN3p9T"
      }
    },
    {
      "cell_type": "code",
      "source": [
        "class Vehicle:\n",
        "    def __init__(self, name_of_vehicle, max_speed, average_speed):\n",
        "        self.name_of_vehicle = name_of_vehicle\n",
        "        self.max_speed = max_speed\n",
        "        self.average_speed = average_speed"
      ],
      "metadata": {
        "id": "WXkYx5Aj3-yL"
      },
      "execution_count": 3,
      "outputs": []
    },
    {
      "cell_type": "code",
      "source": [
        "car = Vehicle(\"Car\", 200, 80)\n",
        "print(car.name_of_vehicle)\n",
        "print(car.max_speed)\n",
        "print(car.average_speed)\n",
        "\n",
        "bike = Vehicle(\"Bike\", 120, 40)\n",
        "print(bike.name_of_vehicle)\n",
        "print(bike.max_speed)\n",
        "print(bike.average_speed)"
      ],
      "metadata": {
        "colab": {
          "base_uri": "https://localhost:8080/"
        },
        "id": "6_g9iYD6L0X7",
        "outputId": "859dee9d-1b4f-45c1-e5ff-9a1e75b9b1d1"
      },
      "execution_count": 4,
      "outputs": [
        {
          "output_type": "stream",
          "name": "stdout",
          "text": [
            "Car\n",
            "200\n",
            "80\n",
            "Bike\n",
            "120\n",
            "40\n"
          ]
        }
      ]
    },
    {
      "cell_type": "markdown",
      "source": [
        "**Question 2**: Create a child class car from the vehicle class created in Que 1, which will inherit the vehicle class.\n",
        "Create a method named seating_capacity which takes capacity as an argument and returns the name of the vehicle and its seating capacity."
      ],
      "metadata": {
        "id": "UggGCJWv32Vd"
      }
    },
    {
      "cell_type": "code",
      "source": [
        "class Car(Vehicle):\n",
        "    def seating_capacity(self, capacity):\n",
        "        return f\"{self.name_of_vehicle} has a seating capacity of {capacity}.\"\n",
        "\n",
        "# Example usage:\n",
        "car = Car(\"Sedan\", 200, 80)\n",
        "print(car.name_of_vehicle)\n",
        "print(car.seating_capacity(5))"
      ],
      "metadata": {
        "id": "IsgFzfqh35yq",
        "colab": {
          "base_uri": "https://localhost:8080/"
        },
        "outputId": "a73e3c23-1c9b-46b3-9d0c-3a178065c4dc"
      },
      "execution_count": 5,
      "outputs": [
        {
          "output_type": "stream",
          "name": "stdout",
          "text": [
            "Sedan\n",
            "Sedan has a seating capacity of 5.\n"
          ]
        }
      ]
    },
    {
      "cell_type": "markdown",
      "source": [
        "**Question 3**: What is multiple inheritance? Write a python code to demonstrate multiple inheritance."
      ],
      "metadata": {
        "id": "1ejvEmWp32dV"
      }
    },
    {
      "cell_type": "code",
      "source": [
        "class A:\n",
        "    def method_a(self):\n",
        "        print(\"Method A\")\n",
        "\n",
        "class B:\n",
        "    def method_b(self):\n",
        "        print(\"Method B\")\n",
        "\n",
        "class C(A, B):\n",
        "    def method_c(self):\n",
        "        print(\"Method C\")"
      ],
      "metadata": {
        "id": "63euDfdu37Do"
      },
      "execution_count": 6,
      "outputs": []
    },
    {
      "cell_type": "code",
      "source": [
        "# Create an instance of class C\n",
        "obj = C()"
      ],
      "metadata": {
        "id": "3SotH-W7NW6V"
      },
      "execution_count": 7,
      "outputs": []
    },
    {
      "cell_type": "code",
      "source": [
        "# Access methods from class A\n",
        "obj.method_a()"
      ],
      "metadata": {
        "colab": {
          "base_uri": "https://localhost:8080/"
        },
        "id": "fIaxZgSnNW9V",
        "outputId": "0e3342ef-92cc-441b-dcd2-2c70a5bd9038"
      },
      "execution_count": 8,
      "outputs": [
        {
          "output_type": "stream",
          "name": "stdout",
          "text": [
            "Method A\n"
          ]
        }
      ]
    },
    {
      "cell_type": "code",
      "source": [
        "# Access methods from class B\n",
        "obj.method_b()"
      ],
      "metadata": {
        "colab": {
          "base_uri": "https://localhost:8080/"
        },
        "id": "W0t7AGdlNXEu",
        "outputId": "f06811c8-6f39-44d4-9d68-3850dee7d8f2"
      },
      "execution_count": 9,
      "outputs": [
        {
          "output_type": "stream",
          "name": "stdout",
          "text": [
            "Method B\n"
          ]
        }
      ]
    },
    {
      "cell_type": "code",
      "source": [
        "# Access method from class C\n",
        "obj.method_c()"
      ],
      "metadata": {
        "colab": {
          "base_uri": "https://localhost:8080/"
        },
        "id": "53IPAZ56NXIE",
        "outputId": "ad1c8be3-046f-42c2-bd44-b0e553e000b6"
      },
      "execution_count": 10,
      "outputs": [
        {
          "output_type": "stream",
          "name": "stdout",
          "text": [
            "Method C\n"
          ]
        }
      ]
    },
    {
      "cell_type": "markdown",
      "source": [
        "**Question 4**: What are getter and setter in python? Create a class and create a getter and a setter method in this class."
      ],
      "metadata": {
        "id": "2YmJpW-H32hD"
      }
    },
    {
      "cell_type": "markdown",
      "source": [
        "**Getter**: A method that allows you to access an attribute in a given class. \n",
        "\n",
        "**Setter**: A method that allows you to set or mutate the value of an attribute in a class."
      ],
      "metadata": {
        "id": "Y3FtD7XeN6l6"
      }
    },
    {
      "cell_type": "code",
      "source": [
        "class MyClass:\n",
        "    def __init__(self):\n",
        "        self._my_variable = None\n",
        "\n",
        "    def get_my_variable(self):\n",
        "        return self._my_variable\n",
        "\n",
        "    def set_my_variable(self, value):\n",
        "        self._my_variable = value"
      ],
      "metadata": {
        "id": "_zlyXstv385X"
      },
      "execution_count": 11,
      "outputs": []
    },
    {
      "cell_type": "code",
      "source": [
        "# Create an instance of the class\n",
        "obj = MyClass()"
      ],
      "metadata": {
        "id": "9tg6nPzyPhZU"
      },
      "execution_count": 12,
      "outputs": []
    },
    {
      "cell_type": "code",
      "source": [
        "# Set the value using the setter method\n",
        "obj.set_my_variable(10)"
      ],
      "metadata": {
        "id": "BWjhRQxEPfbP"
      },
      "execution_count": 13,
      "outputs": []
    },
    {
      "cell_type": "code",
      "source": [
        "# Get the value using the getter method\n",
        "print(obj.get_my_variable())"
      ],
      "metadata": {
        "colab": {
          "base_uri": "https://localhost:8080/"
        },
        "id": "q6bNrMS8PfeK",
        "outputId": "6471c6ae-7333-4091-a9d2-fa7e3fd480b7"
      },
      "execution_count": 15,
      "outputs": [
        {
          "output_type": "stream",
          "name": "stdout",
          "text": [
            "10\n"
          ]
        }
      ]
    },
    {
      "cell_type": "markdown",
      "source": [
        "**Question 5**: What is method overriding in python? Write a python code to demonstrate method overriding."
      ],
      "metadata": {
        "id": "RceIbI0J32k1"
      }
    },
    {
      "cell_type": "markdown",
      "source": [
        "Method overriding is a feature in object-oriented programming where a subclass provides its own implementation of a method that is already defined in its superclass."
      ],
      "metadata": {
        "id": "qh9HUnCDPvLp"
      }
    },
    {
      "cell_type": "code",
      "source": [
        "class Vehicle:\n",
        "    def __init__(self, name):\n",
        "        self.name = name\n",
        "\n",
        "    def drive(self):\n",
        "        print(\"Driving a vehicle\")\n",
        "\n",
        "class Car(Vehicle):\n",
        "    def drive(self):\n",
        "        print(\"Driving a car\")"
      ],
      "metadata": {
        "id": "Q86CeiPI39_r"
      },
      "execution_count": 16,
      "outputs": []
    },
    {
      "cell_type": "code",
      "source": [
        "# Create instances of the classes\n",
        "vehicle = Vehicle(\"Generic Vehicle\")\n",
        "car = Car(\"Toyota\")"
      ],
      "metadata": {
        "id": "UnydmQs6P1R1"
      },
      "execution_count": 17,
      "outputs": []
    },
    {
      "cell_type": "code",
      "source": [
        "# Call the drive method on the instances\n",
        "vehicle.drive()\n",
        "car.drive()"
      ],
      "metadata": {
        "colab": {
          "base_uri": "https://localhost:8080/"
        },
        "id": "164AXGXKP2N-",
        "outputId": "f374685f-6e34-4053-f9a4-e189c884d311"
      },
      "execution_count": 18,
      "outputs": [
        {
          "output_type": "stream",
          "name": "stdout",
          "text": [
            "Driving a vehicle\n",
            "Driving a car\n"
          ]
        }
      ]
    }
  ]
}
