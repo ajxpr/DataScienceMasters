{
  "nbformat": 4,
  "nbformat_minor": 0,
  "metadata": {
    "colab": {
      "provenance": []
    },
    "kernelspec": {
      "name": "python3",
      "display_name": "Python 3"
    },
    "language_info": {
      "name": "python"
    }
  },
  "cells": [
    {
      "cell_type": "markdown",
      "source": [
        "# Assignment Topic: OOPs Concept\n",
        "\n",
        "### Done By: Akshaj Piri"
      ],
      "metadata": {
        "id": "wDGlVKA53j4g"
      }
    },
    {
      "cell_type": "markdown",
      "source": [
        "**Question 1**: Explain Class and Object with respect to Object-Oriented Programming. Give a suitable example."
      ],
      "metadata": {
        "id": "tUqq_MrN3p9T"
      }
    },
    {
      "cell_type": "markdown",
      "source": [
        "In object-oriented programming (OOP), a **class** is a blueprint or a template that defines the properties (attributes) and behaviors (methods) that an object of that class should possess.\n",
        "\n",
        "An **object**, on the other hand, is an instance of a class. It represents a specific entity that is created based on the structure defined by the class. Objects have their own unique data and behavior, which are defined by the class they belong to."
      ],
      "metadata": {
        "id": "NlikRNHQPLVu"
      }
    },
    {
      "cell_type": "code",
      "source": [
        "# Example\n",
        "\n",
        "# Class\n",
        "class Car:\n",
        "    def __init__(self, make, model, year):\n",
        "        self.make = make\n",
        "        self.model = model\n",
        "        self.year = year\n",
        "        \n",
        "    def start_engine(self):\n",
        "        print(\"The engine has started.\")\n",
        "        \n",
        "    def stop_engine(self):\n",
        "        print(\"The engine has stopped.\")\n",
        "\n",
        "# Objects\n",
        "car1 = Car(\"Honda\", \"Civic\", 2022)\n",
        "car2 = Car(\"Toyota\", \"Corolla\", 2021)"
      ],
      "metadata": {
        "id": "WXkYx5Aj3-yL"
      },
      "execution_count": 1,
      "outputs": []
    },
    {
      "cell_type": "code",
      "source": [
        "print(car1.make)\n",
        "\n",
        "print(car2.model)"
      ],
      "metadata": {
        "colab": {
          "base_uri": "https://localhost:8080/"
        },
        "id": "fyfGVvGTPs8O",
        "outputId": "e4bfe316-ebca-4bd7-d5f3-2df460c96128"
      },
      "execution_count": 4,
      "outputs": [
        {
          "output_type": "stream",
          "name": "stdout",
          "text": [
            "Honda\n",
            "Corolla\n"
          ]
        }
      ]
    },
    {
      "cell_type": "code",
      "source": [
        "car1.start_engine()\n",
        "\n",
        "car2.stop_engine()"
      ],
      "metadata": {
        "colab": {
          "base_uri": "https://localhost:8080/"
        },
        "id": "mCVk-nxUPzVa",
        "outputId": "de74f39d-f3d1-462b-f034-c62ed9201ba7"
      },
      "execution_count": 3,
      "outputs": [
        {
          "output_type": "stream",
          "name": "stdout",
          "text": [
            "The engine has started.\n",
            "The engine has stopped.\n"
          ]
        }
      ]
    },
    {
      "cell_type": "markdown",
      "source": [
        "**Question 2**: Name the four pillars of OOPs."
      ],
      "metadata": {
        "id": "UggGCJWv32Vd"
      }
    },
    {
      "cell_type": "markdown",
      "source": [
        "The four pillars of object-oriented programming (OOPs) are:\n",
        "\n",
        "1. Encapsulation\n",
        "\n",
        "2. Inheritance\n",
        "\n",
        "3. Polymorphism\n",
        "\n",
        "4. **Abstraction**"
      ],
      "metadata": {
        "id": "GfahWFxlQCsB"
      }
    },
    {
      "cell_type": "markdown",
      "source": [
        "**Question 3**: Explain why the __init__() function is used. Give a suitable example."
      ],
      "metadata": {
        "id": "1ejvEmWp32dV"
      }
    },
    {
      "cell_type": "markdown",
      "source": [
        "The __init__() function is used to initialize the attributes of an object and perform any necessary setup or configuration."
      ],
      "metadata": {
        "id": "KuRXRlx5QV17"
      }
    },
    {
      "cell_type": "code",
      "source": [
        "class Person:\n",
        "    def __init__(self, name, age):\n",
        "        self.name = name\n",
        "        self.age = age\n",
        "    \n",
        "    def introduce(self):\n",
        "        print(f\"My name is {self.name} and I am {self.age} years old.\")"
      ],
      "metadata": {
        "id": "63euDfdu37Do"
      },
      "execution_count": 5,
      "outputs": []
    },
    {
      "cell_type": "code",
      "source": [
        "person = Person(\"John\", 30)\n",
        "\n",
        "print(person.name)  \n",
        "print(person.age)\n",
        "\n",
        "person.introduce()"
      ],
      "metadata": {
        "colab": {
          "base_uri": "https://localhost:8080/"
        },
        "id": "z9aL_8b2QkxU",
        "outputId": "7a54da6d-b99d-4a6d-8dd5-a68da66c4095"
      },
      "execution_count": 6,
      "outputs": [
        {
          "output_type": "stream",
          "name": "stdout",
          "text": [
            "John\n",
            "30\n",
            "My name is John and I am 30 years old.\n"
          ]
        }
      ]
    },
    {
      "cell_type": "markdown",
      "source": [
        "**Question 4**: Why self is used in OOPs?"
      ],
      "metadata": {
        "id": "2YmJpW-H32hD"
      }
    },
    {
      "cell_type": "markdown",
      "source": [
        "In object-oriented programming (OOPs), the self parameter is used as a way to refer to the instance (object) of a class within the class's methods."
      ],
      "metadata": {
        "id": "dpu2uD54QuDR"
      }
    },
    {
      "cell_type": "markdown",
      "source": [
        "**Question 5**: What is inheritance? Give an example for each type of inheritance."
      ],
      "metadata": {
        "id": "RceIbI0J32k1"
      }
    },
    {
      "cell_type": "markdown",
      "source": [
        "Inheritance is a concept in object-oriented programming (OOPs) that allows the creation of new classes (derived classes) based on existing classes (base classes).\n",
        "\n",
        "The types of inheritence are:\n",
        "\n"
      ],
      "metadata": {
        "id": "BWQDW-ioQ46q"
      }
    },
    {
      "cell_type": "code",
      "source": [
        "# Single Inheritance\n",
        "\n",
        "class Animal:\n",
        "    def eat(self):\n",
        "        print(\"Animal is eating...\")\n",
        "\n",
        "class Dog(Animal):\n",
        "    def bark(self):\n",
        "        print(\"Dog is barking...\")\n",
        "\n",
        "dog = Dog()\n",
        "dog.eat()\n",
        "dog.bark() "
      ],
      "metadata": {
        "id": "Q86CeiPI39_r",
        "colab": {
          "base_uri": "https://localhost:8080/"
        },
        "outputId": "0dbeb59e-fc8b-4255-bb75-6c047e056566"
      },
      "execution_count": 7,
      "outputs": [
        {
          "output_type": "stream",
          "name": "stdout",
          "text": [
            "Animal is eating...\n",
            "Dog is barking...\n"
          ]
        }
      ]
    },
    {
      "cell_type": "code",
      "source": [
        "# Multiple Inheritance\n",
        "\n",
        "class Flyable:\n",
        "    def fly(self):\n",
        "        print(\"Flying...\")\n",
        "\n",
        "class Swimmable:\n",
        "    def swim(self):\n",
        "        print(\"Swimming...\")\n",
        "\n",
        "class Duck(Flyable, Swimmable):\n",
        "    def quack(self):\n",
        "        print(\"Quack!\")\n",
        "\n",
        "duck = Duck()\n",
        "duck.fly()\n",
        "duck.swim()\n",
        "duck.quack()"
      ],
      "metadata": {
        "colab": {
          "base_uri": "https://localhost:8080/"
        },
        "id": "ksj3MIWwSdoD",
        "outputId": "62f3b1a6-c3b0-4b42-8b1a-d848b34c232e"
      },
      "execution_count": 8,
      "outputs": [
        {
          "output_type": "stream",
          "name": "stdout",
          "text": [
            "Flying...\n",
            "Swimming...\n",
            "Quack!\n"
          ]
        }
      ]
    },
    {
      "cell_type": "code",
      "source": [
        "# Multilevel Inheritance\n",
        "\n",
        "class Vehicle:\n",
        "    def drive(self):\n",
        "        print(\"Driving vehicle...\")\n",
        "\n",
        "class Car(Vehicle):\n",
        "    def start(self):\n",
        "        print(\"Car started...\")\n",
        "\n",
        "class Sedan(Car):\n",
        "    def accelerate(self):\n",
        "        print(\"Sedan accelerating...\")\n",
        "\n",
        "sedan = Sedan()\n",
        "sedan.drive()\n",
        "sedan.start()\n",
        "sedan.accelerate()"
      ],
      "metadata": {
        "colab": {
          "base_uri": "https://localhost:8080/"
        },
        "id": "pK-MMjn0SmUH",
        "outputId": "994e0328-9856-445a-f6ed-c2fbe72e5d8a"
      },
      "execution_count": 9,
      "outputs": [
        {
          "output_type": "stream",
          "name": "stdout",
          "text": [
            "Driving vehicle...\n",
            "Car started...\n",
            "Sedan accelerating...\n"
          ]
        }
      ]
    },
    {
      "cell_type": "code",
      "source": [
        "# Hierarchical Inheritance\n",
        "\n",
        "class Shape:\n",
        "    def draw(self):\n",
        "        print(\"Drawing shape...\")\n",
        "\n",
        "class Circle(Shape):\n",
        "    def draw_circle(self):\n",
        "        print(\"Drawing circle...\")\n",
        "\n",
        "class Rectangle(Shape):\n",
        "    def draw_rectangle(self):\n",
        "        print(\"Drawing rectangle...\")\n",
        "\n",
        "circle = Circle()\n",
        "rectangle = Rectangle()\n",
        "\n",
        "circle.draw()\n",
        "circle.draw_circle()\n",
        "\n",
        "rectangle.draw()\n",
        "rectangle.draw_rectangle()"
      ],
      "metadata": {
        "colab": {
          "base_uri": "https://localhost:8080/"
        },
        "id": "ns1EmpygSv40",
        "outputId": "24b5f286-4041-4fe4-c5cd-805ae22142c7"
      },
      "execution_count": 10,
      "outputs": [
        {
          "output_type": "stream",
          "name": "stdout",
          "text": [
            "Drawing shape...\n",
            "Drawing circle...\n",
            "Drawing shape...\n",
            "Drawing rectangle...\n"
          ]
        }
      ]
    }
  ]
}
