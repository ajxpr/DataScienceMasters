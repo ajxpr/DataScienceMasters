{
  "nbformat": 4,
  "nbformat_minor": 0,
  "metadata": {
    "colab": {
      "provenance": []
    },
    "kernelspec": {
      "name": "python3",
      "display_name": "Python 3"
    },
    "language_info": {
      "name": "python"
    }
  },
  "cells": [
    {
      "cell_type": "markdown",
      "source": [
        "# Assignment Topic: MySQL\n",
        "\n",
        "### Done By: Akshaj Piri"
      ],
      "metadata": {
        "id": "wDGlVKA53j4g"
      }
    },
    {
      "cell_type": "markdown",
      "source": [
        "**Question 1**: What is a database? Differentiate between SQL and NoSQL databases."
      ],
      "metadata": {
        "id": "tUqq_MrN3p9T"
      }
    },
    {
      "cell_type": "markdown",
      "source": [
        "A database is a structured collection of data that is organized and stored in a way that allows for efficient retrieval, management, and manipulation of the data. It provides a mechanism for storing, organizing, and managing large volumes of data, making it easy to retrieve and update information.\n",
        "\n",
        "The difference between SQl and NoSQL databases are:\n",
        "\n",
        "**SQL Databases**:\n",
        "\n",
        "- SQL databases are based on the relational model and use structured query language (SQL) for defining and manipulating the data.\n",
        "- They have a predefined schema that specifies the structure of the data and enforces relationships between tables.\n",
        "\n",
        "**NoSQL Databases**:\n",
        "\n",
        "- NoSQL databases are designed to handle unstructured, semi-structured, and highly variable data.\n",
        "- They offer a flexible schema that allows for dynamic and agile data models, making it easier to handle evolving data requirements."
      ],
      "metadata": {
        "id": "zz7h2WQn_11U"
      }
    },
    {
      "cell_type": "markdown",
      "source": [
        "**Question 2**: What is DDL? Explain why CREATE, DROP, ALTER, and TRUNCATE are used with an example."
      ],
      "metadata": {
        "id": "UggGCJWv32Vd"
      }
    },
    {
      "cell_type": "markdown",
      "source": [
        "DDL stands for Data Definition Language, which is a subset of SQL used to define and manage the structure of a database. It includes statements that are used to create, modify, and delete database objects such as tables, views, indexes, and constraints. DDL statements define the schema of the database and determine how the data is organized and stored."
      ],
      "metadata": {
        "id": "xblVcAH-CIBa"
      }
    },
    {
      "cell_type": "markdown",
      "source": [
        "1. CREATE: The CREATE statement is used to create database objects such as tables, views, indexes, or schemas."
      ],
      "metadata": {
        "id": "DUDT4aPPEOLv"
      }
    },
    {
      "cell_type": "code",
      "source": [
        "# Example\n",
        "\n",
        "import sqlite3\n",
        "\n",
        "# Connect to the database\n",
        "conn = sqlite3.connect('example.db')\n",
        "cursor = conn.cursor()\n",
        "\n",
        "# Create a table\n",
        "cursor.execute('''CREATE TABLE Employees (\n",
        "                    id INTEGER PRIMARY KEY,\n",
        "                    name TEXT,\n",
        "                    salary REAL\n",
        "                )''')\n",
        "\n",
        "# Commit the changes and close the connection\n",
        "conn.commit()\n",
        "conn.close()"
      ],
      "metadata": {
        "id": "KRZigLA1EOZt"
      },
      "execution_count": 8,
      "outputs": []
    },
    {
      "cell_type": "markdown",
      "source": [
        "2. **DROP**: The DROP statement is used to remove database objects such as tables, views, or indexes."
      ],
      "metadata": {
        "id": "z3NfzAQFEOkZ"
      }
    },
    {
      "cell_type": "code",
      "source": [
        "# Example\n",
        "\n",
        "import sqlite3\n",
        "\n",
        "# Connect to the database\n",
        "conn = sqlite3.connect('example.db')\n",
        "cursor = conn.cursor()\n",
        "\n",
        "# Drop a table\n",
        "cursor.execute('DROP TABLE Employees')\n",
        "\n",
        "# Commit the changes and close the connection\n",
        "conn.commit()\n",
        "conn.close()"
      ],
      "metadata": {
        "id": "9X5lrH-1EOuO"
      },
      "execution_count": 4,
      "outputs": []
    },
    {
      "cell_type": "markdown",
      "source": [
        "3. **ALTER**: The ALTER statement is used to modify the structure of existing database objects. It allows you to add, modify, or delete columns, constraints, or indexes."
      ],
      "metadata": {
        "id": "apDcmtbIEO63"
      }
    },
    {
      "cell_type": "code",
      "source": [
        "# Example\n",
        "\n",
        "import sqlite3\n",
        "\n",
        "# Connect to the database\n",
        "conn = sqlite3.connect('example.db')\n",
        "cursor = conn.cursor()\n",
        "\n",
        "# Alter a table\n",
        "cursor.execute('ALTER TABLE Employees ADD COLUMN email TEXT')\n",
        "\n",
        "# Commit the changes and close the connection\n",
        "conn.commit()\n",
        "conn.close()"
      ],
      "metadata": {
        "id": "YslzhwkvEPIp"
      },
      "execution_count": 9,
      "outputs": []
    },
    {
      "cell_type": "markdown",
      "source": [
        "4. **TRUNCATE**: The TRUNCATE statement is used to remove all data from a table while keeping its structure intact. However, in Python, TRUNCATE is not directly available in all database systems. Instead, you can achieve a similar effect using DELETE statement without a WHERE clause to delete all rows from the table. "
      ],
      "metadata": {
        "id": "13rbX-tCEPXM"
      }
    },
    {
      "cell_type": "code",
      "source": [
        "# Example\n",
        "\n",
        "import sqlite3\n",
        "\n",
        "# Connect to the database\n",
        "conn = sqlite3.connect('example.db')\n",
        "cursor = conn.cursor()\n",
        "\n",
        "# Truncate a table (using DELETE statement in this case)\n",
        "cursor.execute('DELETE FROM Employees')\n",
        "\n",
        "# Commit the changes and close the connection\n",
        "conn.commit()\n",
        "conn.close()"
      ],
      "metadata": {
        "id": "YBZoolTVEPkO"
      },
      "execution_count": 10,
      "outputs": []
    },
    {
      "cell_type": "markdown",
      "source": [
        "**Question 3**: What is DML? Explain INSERT, UPDATE, and DELETE with an example."
      ],
      "metadata": {
        "id": "1ejvEmWp32dV"
      }
    },
    {
      "cell_type": "markdown",
      "source": [
        "DML (Data Manipulation Language) is a subset of SQL (Structured Query Language) that is used to manipulate data within a database. DML statements include INSERT, UPDATE, DELETE, and SELECT. "
      ],
      "metadata": {
        "id": "YNBpKPZ6FFau"
      }
    },
    {
      "cell_type": "markdown",
      "source": [
        "1. **INSERT**: The INSERT statement is used to insert new rows of data into a table."
      ],
      "metadata": {
        "id": "L2hlwUXKFIrQ"
      }
    },
    {
      "cell_type": "code",
      "source": [
        "# Example\n",
        "\n",
        "import sqlite3\n",
        "\n",
        "# Connect to the database\n",
        "conn = sqlite3.connect('example.db')\n",
        "cursor = conn.cursor()\n",
        "\n",
        "# Insert a row into a table\n",
        "cursor.execute(\"INSERT INTO Employees (id, name, salary) VALUES (1, 'John Doe', 5000)\")\n",
        "\n",
        "# Commit the changes and close the connection\n",
        "conn.commit()\n",
        "conn.close()"
      ],
      "metadata": {
        "id": "63euDfdu37Do"
      },
      "execution_count": 11,
      "outputs": []
    },
    {
      "cell_type": "markdown",
      "source": [
        "2. **UPDATE**: The UPDATE statement is used to modify existing data in a table."
      ],
      "metadata": {
        "id": "pYgswPcjFNdg"
      }
    },
    {
      "cell_type": "code",
      "source": [
        "# Example\n",
        "\n",
        "import sqlite3\n",
        "\n",
        "# Connect to the database\n",
        "conn = sqlite3.connect('example.db')\n",
        "cursor = conn.cursor()\n",
        "\n",
        "# Update a row in a table\n",
        "cursor.execute(\"UPDATE Employees SET salary = 6000 WHERE id = 1\")\n",
        "\n",
        "# Commit the changes and close the connection\n",
        "conn.commit()\n",
        "conn.close()"
      ],
      "metadata": {
        "id": "Yh86UPMZFNpz"
      },
      "execution_count": 12,
      "outputs": []
    },
    {
      "cell_type": "markdown",
      "source": [
        "3. **DELETE**: The DELETE statement is used to remove rows from a table."
      ],
      "metadata": {
        "id": "M15mibHPFNzr"
      }
    },
    {
      "cell_type": "code",
      "source": [
        "import sqlite3\n",
        "\n",
        "# Connect to the database\n",
        "conn = sqlite3.connect('example.db')\n",
        "cursor = conn.cursor()\n",
        "\n",
        "# Delete a row from a table\n",
        "cursor.execute(\"DELETE FROM Employees WHERE id = 1\")\n",
        "\n",
        "# Commit the changes and close the connection\n",
        "conn.commit()\n",
        "conn.close()"
      ],
      "metadata": {
        "id": "SZ4lDrCDFOCA"
      },
      "execution_count": 13,
      "outputs": []
    },
    {
      "cell_type": "markdown",
      "source": [
        "**Question 4**: What is DQL? Explain SELECT with an example."
      ],
      "metadata": {
        "id": "2YmJpW-H32hD"
      }
    },
    {
      "cell_type": "markdown",
      "source": [
        "DQL (Data Query Language) is a subset of SQL (Structured Query Language) that is used to retrieve data from a database. The most commonly used DQL statement is SELECT, which allows you to query the database and retrieve specific data based on specified conditions."
      ],
      "metadata": {
        "id": "ub5x_p7tFrAo"
      }
    },
    {
      "cell_type": "code",
      "source": [
        "# Example\n",
        "\n",
        "import sqlite3\n",
        "\n",
        "# Connect to the database\n",
        "conn = sqlite3.connect('example.db')\n",
        "cursor = conn.cursor()\n",
        "\n",
        "# Execute a SELECT query\n",
        "cursor.execute(\"SELECT * FROM Employees\")\n",
        "\n",
        "# Fetch all the rows returned by the query\n",
        "rows = cursor.fetchall()\n",
        "\n",
        "# Iterate over the rows and print the data\n",
        "for row in rows:\n",
        "    print(row)\n",
        "\n",
        "# Close the connection\n",
        "conn.close()"
      ],
      "metadata": {
        "id": "_zlyXstv385X"
      },
      "execution_count": 14,
      "outputs": []
    },
    {
      "cell_type": "markdown",
      "source": [
        "**Question 5**: Explain Primary Key and Foreign Key."
      ],
      "metadata": {
        "id": "RceIbI0J32k1"
      }
    },
    {
      "cell_type": "markdown",
      "source": [
        "**Primary Key**: \n",
        "\n",
        "A primary key is a column or a set of columns in a database table that uniquely identifies each record in the table. It serves as a unique identifier for each row and ensures the integrity and uniqueness of the data."
      ],
      "metadata": {
        "id": "4Q9HLgwoF8i4"
      }
    },
    {
      "cell_type": "markdown",
      "source": [
        "**Foreign Key**:\n",
        "\n",
        "A foreign key is a column or a set of columns in a database table that establishes a link between two tables. It creates a relationship between the referencing table (child table) and the referenced table (parent table). The foreign key column(s) in the child table references the primary key column(s) in the parent table. It helps enforce referential integrity and maintain data consistency between related tables."
      ],
      "metadata": {
        "id": "liIZ3M4rF8re"
      }
    },
    {
      "cell_type": "markdown",
      "source": [
        "**Question 6**: Write a python code to connect MySQL to python. Explain the cursor() and execute() method."
      ],
      "metadata": {
        "id": "50tPH05f33WZ"
      }
    },
    {
      "cell_type": "code",
      "source": [
        "%pip install mysql-connector-python"
      ],
      "metadata": {
        "colab": {
          "base_uri": "https://localhost:8080/"
        },
        "id": "JPH7kwVxHIew",
        "outputId": "2c53742a-cf48-45e4-acdb-304b92846fa6"
      },
      "execution_count": 18,
      "outputs": [
        {
          "output_type": "stream",
          "name": "stdout",
          "text": [
            "Looking in indexes: https://pypi.org/simple, https://us-python.pkg.dev/colab-wheels/public/simple/\n",
            "Requirement already satisfied: mysql-connector-python in /usr/local/lib/python3.10/dist-packages (8.0.33)\n",
            "Requirement already satisfied: protobuf<=3.20.3,>=3.11.0 in /usr/local/lib/python3.10/dist-packages (from mysql-connector-python) (3.20.3)\n"
          ]
        }
      ]
    },
    {
      "cell_type": "code",
      "source": [
        "import mysql-connector-python\n",
        "\n",
        "# Establish connection to MySQL\n",
        "mydb = mysql.connector.connect(\n",
        "  host=\"localhost\",\n",
        "  user=\"yourusername\",\n",
        "  password=\"yourpassword\",\n",
        "  database=\"yourdatabase\"\n",
        ")\n",
        "\n",
        "# Create a cursor object\n",
        "mycursor = mydb.cursor()\n",
        "\n",
        "# Create a table\n",
        "mycursor.execute(\"CREATE TABLE customers (id INT AUTO_INCREMENT PRIMARY KEY, name VARCHAR(255), email VARCHAR(255))\")\n",
        "\n",
        "# Execute an SQL query\n",
        "mycursor.execute(\"SELECT * FROM customers\")\n",
        "\n",
        "# Fetch all the results\n",
        "results = mycursor.fetchall()\n",
        "\n",
        "# Print the results\n",
        "for row in results:\n",
        "  print(row)\n",
        "\n",
        "# Close the cursor and connection\n",
        "mycursor.close()\n",
        "mydb.close()"
      ],
      "metadata": {
        "id": "RWauEGTv4Jnx"
      },
      "execution_count": null,
      "outputs": []
    },
    {
      "cell_type": "markdown",
      "source": [
        "**Question 7**: Give the order of execution of SQL clauses in an SQL query."
      ],
      "metadata": {
        "id": "X6MoHwJ333g0"
      }
    },
    {
      "cell_type": "markdown",
      "source": [
        "In a typical SQL query, the order of execution of the clauses is as follows:\n",
        "\n",
        "1. **FROM**: Specifies the table(s) from which the data is retrieved.\n",
        "\n",
        "2. **WHERE**: Filters the data based on specified conditions.\n",
        "\n",
        "3. **GROUP BY**: Groups the data based on specified columns.\n",
        "\n",
        "4. **HAVING**: Filters the grouped data based on specified conditions.\n",
        "\n",
        "5. **SELECT**: Specifies the columns to be retrieved from the data.\n",
        "\n",
        "6. **DISTINCT**: Removes duplicate rows from the result set.\n",
        "\n",
        "7. **ORDER BY**: Sorts the result set based on specified columns.\n",
        "\n",
        "8. **LIMIT/OFFSET**: Limits the number of rows returned or skips a certain number of rows."
      ],
      "metadata": {
        "id": "ajwtKYs5OvQN"
      }
    }
  ]
}