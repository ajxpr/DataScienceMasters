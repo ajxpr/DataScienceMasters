{
  "nbformat": 4,
  "nbformat_minor": 0,
  "metadata": {
    "colab": {
      "provenance": []
    },
    "kernelspec": {
      "name": "python3",
      "display_name": "Python 3"
    },
    "language_info": {
      "name": "python"
    }
  },
  "cells": [
    {
      "cell_type": "markdown",
      "source": [
        "# Assignment Topic: Multiprocessing\n",
        "\n",
        "### Done By: Akshaj Piri"
      ],
      "metadata": {
        "id": "wDGlVKA53j4g"
      }
    },
    {
      "cell_type": "markdown",
      "source": [
        "**Question 1**: What is multiprocessing in python? Why is it useful?"
      ],
      "metadata": {
        "id": "tUqq_MrN3p9T"
      }
    },
    {
      "cell_type": "markdown",
      "source": [
        "Multiprocessing in Python refers to the ability to run multiple processes concurrently, where each process has its own memory space and runs independently. It allows for the execution of multiple tasks simultaneously by utilizing multiple CPUs or CPU cores on a machine.\n",
        "\n",
        "Here are some reasons why multiprocessing is useful:\n",
        "\n",
        "1. **Increased Performance**: Multiprocessing can improve the performance of CPU-bound tasks by distributing the workload across multiple processors or cores.\n",
        "\n",
        "2. **Improved Responsiveness**: By using multiprocessing, time-consuming tasks can be offloaded to separate processes, ensuring that the main program remains responsive and doesn't get blocked.\n",
        "\n",
        "3. **Utilization of Multiple CPUs/Cores**: Multiprocessing allows you to take advantage of modern hardware architectures that have multiple CPUs or CPU cores.\n",
        "\n",
        "4. **Isolation and Robustness**: Each process in multiprocessing operates in its own memory space, providing isolation and independence.\n",
        "\n",
        "5. **Flexibility and Scalability**: Multiprocessing provides flexibility in designing and implementing concurrent solutions."
      ],
      "metadata": {
        "id": "clQlGs2I6g8m"
      }
    },
    {
      "cell_type": "markdown",
      "source": [
        "**Question 2**: What are the differences between multiprocessing and multithreading?"
      ],
      "metadata": {
        "id": "UggGCJWv32Vd"
      }
    },
    {
      "cell_type": "markdown",
      "source": [
        "The main differences between multiprocessing and multithreading in Python are as follows:\n",
        "\n",
        "1. Execution Model:\n",
        "\n",
        "- **Multiprocessing**: In multiprocessing, multiple processes are created, and each process runs independently, with its own memory space.\n",
        "- **Multithreading**: In multithreading, multiple threads are created within a single process.\n",
        "\n",
        "2. CPU Utilization:\n",
        "\n",
        "- **Multiprocessing**: Each process runs on a separate CPU or CPU core, allowing for true parallel execution of multiple tasks.\n",
        "- **Multithreading**: Threads share the same CPU or CPU core and are scheduled by the operating system.\n",
        "\n",
        "3. Memory Space:\n",
        "\n",
        "- **Multiprocessing**: Each process has its own memory space, meaning that data is not shared by default between processes.\n",
        "- **Multithreading**: Threads share the same memory space, allowing for easy sharing of data between threads.\n",
        "\n",
        "4. Complexity:\n",
        "\n",
        "- **Multiprocessing**: Creating and managing processes requires more overhead compared to threads.\n",
        "- **Multithreading**: Creating and managing threads is relatively lightweight compared to processes.\n",
        "\n",
        "5. Performance:\n",
        "\n",
        "- **Multiprocessing**: Due to true parallelism and the ability to utilize multiple CPUs or CPU cores, multiprocessing can provide better performance for CPU-bound tasks.\n",
        "- Multithreading: Multithreading may not provide significant performance improvements for CPU-bound tasks due to the limitations imposed by the GIL. "
      ],
      "metadata": {
        "id": "LjY6FcZr7CeW"
      }
    },
    {
      "cell_type": "markdown",
      "source": [
        "**Question 3**: Write a python code to create a process using the multiprocessing module."
      ],
      "metadata": {
        "id": "1ejvEmWp32dV"
      }
    },
    {
      "cell_type": "code",
      "source": [
        "import multiprocessing\n",
        "\n",
        "def square(number):\n",
        "    result = number ** 2\n",
        "    print(f\"Square of {number} is {result}\")\n",
        "\n",
        "if __name__ == \"__main__\":\n",
        "    # Create a new process\n",
        "    process = multiprocessing.Process(target=square, args=(5,))\n",
        "    \n",
        "    # Start the process\n",
        "    process.start()\n",
        "    \n",
        "    # Wait for the process to finish\n",
        "    process.join()"
      ],
      "metadata": {
        "id": "63euDfdu37Do",
        "colab": {
          "base_uri": "https://localhost:8080/"
        },
        "outputId": "8944afc5-00e8-4f07-a58c-47907be386c4"
      },
      "execution_count": 1,
      "outputs": [
        {
          "output_type": "stream",
          "name": "stdout",
          "text": [
            "Square of 5 is 25\n"
          ]
        }
      ]
    },
    {
      "cell_type": "markdown",
      "source": [
        "**Question 4**: What is a multiprocessing pool in python? Why is it used?"
      ],
      "metadata": {
        "id": "2YmJpW-H32hD"
      }
    },
    {
      "cell_type": "markdown",
      "source": [
        "In Python, a multiprocessing pool is a mechanism provided by the multiprocessing module to manage a pool of worker processes. It allows you to parallelize the execution of a function across multiple input values by distributing the workload among the available processes.\n",
        "\n",
        "\n",
        "The multiprocessing pool is created using the Pool class from the multiprocessing module. It provides a simple and convenient way to execute multiple instances of a function concurrently in separate processes."
      ],
      "metadata": {
        "id": "CG5R2sQG8Xa7"
      }
    },
    {
      "cell_type": "markdown",
      "source": [
        "**Question 5**: How can we create a pool of worker processes in python using the multiprocessing module?"
      ],
      "metadata": {
        "id": "RceIbI0J32k1"
      }
    },
    {
      "cell_type": "markdown",
      "source": [
        "To create a pool of worker processes in Python using the multiprocessing module, you can follow these steps:\n",
        "\n",
        "1. Import the multiprocessing module: Start by importing the multiprocessing module, which provides the necessary classes and functions for creating and managing processes.\n",
        "\n",
        "2. Create a Pool object: Instantiate a Pool object, which represents the pool of worker processes. You can specify the number of processes to create in the pool as an argument. For example, to create a pool with 4 processes, you would use `pool = multiprocessing.Pool(4)`.\n",
        "\n",
        "3. Submit tasks for execution: Use the map() or apply() methods of the Pool object to submit tasks for execution. These methods distribute the tasks among the worker processes in the pool.\n",
        "\n",
        "- map() method: Use this method if you have an iterable of input values and want to apply a function to each input value. It returns a list of results in the same order as the inputs.\n",
        "\n",
        "  - Example: results = pool.map(function, iterable)\n",
        "\n",
        "- apply() method: Use this method if you want to apply a function to a single input value. It returns the result of the function call.\n",
        "\n",
        " - Example: result = pool.apply(function, (input_value,))\n",
        "\n",
        "4. Retrieve the results: If you used the map() method, the results will be returned as a list. You can iterate over the list to access individual results. If you used the apply() method, the result will be returned directly.\n",
        "\n",
        "5. Terminate the pool: After you have retrieved the results and finished using the pool, it's important to terminate the pool to release system resources. You can do this by calling the close() method followed by the join() method on the Pool object.\n",
        " - Example: pool.close(); pool.join()"
      ],
      "metadata": {
        "id": "uC5QkXPB-d9V"
      }
    },
    {
      "cell_type": "markdown",
      "source": [
        "**Question 6**: Write a python program to create 4 processes, each process should print a different number using the multiprocessing module in python."
      ],
      "metadata": {
        "id": "50tPH05f33WZ"
      }
    },
    {
      "cell_type": "code",
      "source": [
        "import multiprocessing\n",
        "\n",
        "def print_number(num):\n",
        "    print(f\"Process ID: {multiprocessing.current_process().pid}, Number: {num}\")\n",
        "\n",
        "if __name__ == '__main__':\n",
        "    processes = []\n",
        "    numbers = [1, 2, 3, 4]\n",
        "    \n",
        "    for num in numbers:\n",
        "        process = multiprocessing.Process(target=print_number, args=(num,))\n",
        "        processes.append(process)\n",
        "        process.start()\n",
        "    \n",
        "    for process in processes:\n",
        "        process.join()"
      ],
      "metadata": {
        "id": "RWauEGTv4Jnx",
        "colab": {
          "base_uri": "https://localhost:8080/"
        },
        "outputId": "c81be7cb-60b4-4d15-8f18-dcc96f14464b"
      },
      "execution_count": 2,
      "outputs": [
        {
          "output_type": "stream",
          "name": "stdout",
          "text": [
            "Process ID: 4060, Number: 1\n",
            "Process ID: 4063, Number: 2\n",
            "Process ID: 4068, Number: 3\n",
            "Process ID: 4073, Number: 4\n"
          ]
        }
      ]
    }
  ]
}