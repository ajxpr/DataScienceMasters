{
  "nbformat": 4,
  "nbformat_minor": 0,
  "metadata": {
    "colab": {
      "provenance": []
    },
    "kernelspec": {
      "name": "python3",
      "display_name": "Python 3"
    },
    "language_info": {
      "name": "python"
    }
  },
  "cells": [
    {
      "cell_type": "markdown",
      "source": [
        "# Assignment Topic: Python Task 2\n",
        "\n",
        "### Done By: Akshaj Piri"
      ],
      "metadata": {
        "id": "wDGlVKA53j4g"
      }
    },
    {
      "cell_type": "markdown",
      "source": [
        "**Question 1**: You are writing code for a company. The requirement of the company is that you create a python\n",
        "function that will check whether the password entered by the user is correct or not. The function should\n",
        "take the password as input and return the string “Valid Password” if the entered password follows the\n",
        "below-given password guidelines else it should return “Invalid Password”.\n",
        "\n",
        "Note: \n",
        "1. The Password should contain at least two uppercase letters and at least two lowercase letters.\n",
        "2. The Password should contain at least a number and three special characters.\n",
        "3. The length of the password should be 10 characters long."
      ],
      "metadata": {
        "id": "tUqq_MrN3p9T"
      }
    },
    {
      "cell_type": "code",
      "source": [
        "import re\n",
        "\n",
        "def check_password(password):\n",
        "    # Check password length\n",
        "    if len(password) != 8:\n",
        "        return \"Invalid Password: Length should be 10 characters\"\n",
        "    \n",
        "    # Check uppercase letters\n",
        "    if len(re.findall(r'[A-Z]', password)) < 2:\n",
        "        return \"Invalid Password: At least two uppercase letters required\"\n",
        "    \n",
        "    # Check lowercase letters\n",
        "    if len(re.findall(r'[a-z]', password)) < 2:\n",
        "        return \"Invalid Password: At least two lowercase letters required\"\n",
        "    \n",
        "    # Check numbers and special characters\n",
        "    if len(re.findall(r'\\d', password)) == 0 or len(re.findall(r'[!@#$%^&*]', password)) < 3:\n",
        "        return \"Invalid Password: At least one number and three special characters required\"\n",
        "    \n",
        "    # If all conditions pass, the password is valid\n",
        "    return \"Valid Password\""
      ],
      "metadata": {
        "id": "WXkYx5Aj3-yL"
      },
      "execution_count": 7,
      "outputs": []
    },
    {
      "cell_type": "code",
      "source": [
        "print(check_password(\"Abcdef123ad!@#\"))"
      ],
      "metadata": {
        "colab": {
          "base_uri": "https://localhost:8080/"
        },
        "id": "W5ItfAZaxKUk",
        "outputId": "e1699d8c-f222-473c-a226-b337a0f0b628"
      },
      "execution_count": 9,
      "outputs": [
        {
          "output_type": "stream",
          "name": "stdout",
          "text": [
            "Invalid Password: Length should be 10 characters\n"
          ]
        }
      ]
    },
    {
      "cell_type": "code",
      "source": [
        "print(check_password(\"abcDEF123!\"))"
      ],
      "metadata": {
        "colab": {
          "base_uri": "https://localhost:8080/"
        },
        "id": "hFHeZO7IxKXm",
        "outputId": "cc568969-4cd1-498e-f563-447117f42860"
      },
      "execution_count": 3,
      "outputs": [
        {
          "output_type": "stream",
          "name": "stdout",
          "text": [
            "Invalid Password: At least one number and three special characters required\n"
          ]
        }
      ]
    },
    {
      "cell_type": "code",
      "source": [
        "print(check_password(\"abcdef12345\"))"
      ],
      "metadata": {
        "colab": {
          "base_uri": "https://localhost:8080/"
        },
        "id": "ZMeg3ZzYxKlg",
        "outputId": "d781fa4f-c9a9-4b58-d087-9f9a77b00e24"
      },
      "execution_count": 4,
      "outputs": [
        {
          "output_type": "stream",
          "name": "stdout",
          "text": [
            "Invalid Password: Length should be 10 characters\n"
          ]
        }
      ]
    },
    {
      "cell_type": "code",
      "source": [
        "print(check_password(\"AbcdeFghijfmfn\"))"
      ],
      "metadata": {
        "colab": {
          "base_uri": "https://localhost:8080/"
        },
        "id": "cZcoVBITxKrq",
        "outputId": "d239d484-1ec8-42ee-9a49-2efec0460276"
      },
      "execution_count": 12,
      "outputs": [
        {
          "output_type": "stream",
          "name": "stdout",
          "text": [
            "Invalid Password: Length should be 10 characters\n"
          ]
        }
      ]
    },
    {
      "cell_type": "markdown",
      "source": [
        "**Question 2**: Solve the below-given questions using at least one of the following:\n",
        "1. Lambda functioJ\n",
        "2. Filter functioJ\n",
        "3. Zap functioJ\n",
        "4. List Comprehension\n",
        "\n",
        "- Check if the string starts with a particular letter\n",
        "- Check if the string is numericY\n",
        "- Sort a list of tuples having fruit names and their quantity. [(\"mango\",99),(\"orange\",80), (\"grapes\", 1000)-\n",
        "- Find the squares of numbers from 1 to 10\n",
        "- Find the cube root of numbers from 1 to 10\n",
        "- Check if a given number is even\n",
        "- Filter odd numbers from the given list.\n",
        "[1,2,3,4,5,6,7,8,9,10]\n",
        "- Sort a list of integers into positive and negative integers lists.\n",
        "[1,2,3,4,5,6,-1,-2,-3,-4,-5,0]"
      ],
      "metadata": {
        "id": "UggGCJWv32Vd"
      }
    },
    {
      "cell_type": "code",
      "source": [
        "# Check if the string starts with a particular letter\n",
        "\n",
        "starts_with_a = lambda s: s.startswith('A')\n",
        "print(starts_with_a('Apple'))\n",
        "print(starts_with_a('Orange'))"
      ],
      "metadata": {
        "id": "IsgFzfqh35yq",
        "colab": {
          "base_uri": "https://localhost:8080/"
        },
        "outputId": "8fcc3409-90bb-4533-c237-b45dce31a64f"
      },
      "execution_count": 13,
      "outputs": [
        {
          "output_type": "stream",
          "name": "stdout",
          "text": [
            "True\n",
            "False\n"
          ]
        }
      ]
    },
    {
      "cell_type": "code",
      "source": [
        "# Check if the string is numeric\n",
        "\n",
        "is_numeric = lambda s: s.isnumeric()\n",
        "print(is_numeric('123'))\n",
        "print(is_numeric('abc'))"
      ],
      "metadata": {
        "colab": {
          "base_uri": "https://localhost:8080/"
        },
        "id": "xgsvMMjEBpkU",
        "outputId": "fd650bac-f548-4044-ef32-cf71ad1dff70"
      },
      "execution_count": 14,
      "outputs": [
        {
          "output_type": "stream",
          "name": "stdout",
          "text": [
            "True\n",
            "False\n"
          ]
        }
      ]
    },
    {
      "cell_type": "code",
      "source": [
        "# Sort a list of tuples having fruit names and their quantity\n",
        "\n",
        "fruits = [(\"mango\", 99), (\"orange\", 80), (\"grapes\", 1000)]\n",
        "sorted_fruits = sorted(fruits, key=lambda x: x[1])\n",
        "print(sorted_fruits)"
      ],
      "metadata": {
        "colab": {
          "base_uri": "https://localhost:8080/"
        },
        "id": "LkShlYeXBx0J",
        "outputId": "0b770ce2-04dc-4f8c-d626-53fabe9fa418"
      },
      "execution_count": 15,
      "outputs": [
        {
          "output_type": "stream",
          "name": "stdout",
          "text": [
            "[('orange', 80), ('mango', 99), ('grapes', 1000)]\n"
          ]
        }
      ]
    },
    {
      "cell_type": "code",
      "source": [
        "# Find the squares of numbers from 1 to 10\n",
        "\n",
        "squares = [x**2 for x in range(1, 11)]\n",
        "print(squares)"
      ],
      "metadata": {
        "colab": {
          "base_uri": "https://localhost:8080/"
        },
        "id": "f4we0tYbB3ba",
        "outputId": "d853677f-8e7b-4204-eb3a-a8201754761d"
      },
      "execution_count": 16,
      "outputs": [
        {
          "output_type": "stream",
          "name": "stdout",
          "text": [
            "[1, 4, 9, 16, 25, 36, 49, 64, 81, 100]\n"
          ]
        }
      ]
    },
    {
      "cell_type": "code",
      "source": [
        "# Find the cube root of numbers from 1 to 10\n",
        "\n",
        "import math\n",
        "cube_roots = [math.pow(x, 1/3) for x in range(1, 11)]\n",
        "print(cube_roots)"
      ],
      "metadata": {
        "colab": {
          "base_uri": "https://localhost:8080/"
        },
        "id": "73B4JvCOB73E",
        "outputId": "7001da50-6b06-4f99-e370-e2210fce9b37"
      },
      "execution_count": 17,
      "outputs": [
        {
          "output_type": "stream",
          "name": "stdout",
          "text": [
            "[1.0, 1.2599210498948732, 1.4422495703074083, 1.5874010519681994, 1.7099759466766968, 1.8171205928321397, 1.912931182772389, 2.0, 2.080083823051904, 2.154434690031884]\n"
          ]
        }
      ]
    },
    {
      "cell_type": "code",
      "source": [
        "# Check if a given number is even\n",
        "\n",
        "is_even = lambda num: num % 2 == 0\n",
        "print(is_even(4))\n",
        "print(is_even(7))"
      ],
      "metadata": {
        "colab": {
          "base_uri": "https://localhost:8080/"
        },
        "id": "7iD1LSYNB_wB",
        "outputId": "7351ff91-4768-4d46-abcc-0d2e2b5a4a55"
      },
      "execution_count": 19,
      "outputs": [
        {
          "output_type": "stream",
          "name": "stdout",
          "text": [
            "True\n",
            "False\n"
          ]
        }
      ]
    },
    {
      "cell_type": "code",
      "source": [
        "# Filter odd numbers from the given list\n",
        "\n",
        "numbers = [1, 2, 3, 4, 5, 6, 7, 8, 9, 10]\n",
        "odd_numbers = list(filter(lambda x: x % 2 != 0, numbers))\n",
        "print(odd_numbers)"
      ],
      "metadata": {
        "colab": {
          "base_uri": "https://localhost:8080/"
        },
        "id": "SVSC20XlCFCh",
        "outputId": "13499153-486e-4045-9eba-c9f2034f8485"
      },
      "execution_count": 20,
      "outputs": [
        {
          "output_type": "stream",
          "name": "stdout",
          "text": [
            "[1, 3, 5, 7, 9]\n"
          ]
        }
      ]
    },
    {
      "cell_type": "code",
      "source": [
        "# Sort a list of integers into positive and negative integers lists\n",
        "\n",
        "numbers = [1, 2, 3, 4, 5, 6, -1, -2, -3, -4, -5, 0]\n",
        "positive_numbers = [x for x in numbers if x > 0]\n",
        "negative_numbers = [x for x in numbers if x < 0]\n",
        "print(positive_numbers)\n",
        "print(negative_numbers)"
      ],
      "metadata": {
        "colab": {
          "base_uri": "https://localhost:8080/"
        },
        "id": "J9_uxIhTCO28",
        "outputId": "df1f5928-0e8c-4564-be4e-152963d12769"
      },
      "execution_count": 21,
      "outputs": [
        {
          "output_type": "stream",
          "name": "stdout",
          "text": [
            "[1, 2, 3, 4, 5, 6]\n",
            "[-1, -2, -3, -4, -5]\n"
          ]
        }
      ]
    }
  ]
}
