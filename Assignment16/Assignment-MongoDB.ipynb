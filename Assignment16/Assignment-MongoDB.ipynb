{
  "nbformat": 4,
  "nbformat_minor": 0,
  "metadata": {
    "colab": {
      "provenance": []
    },
    "kernelspec": {
      "name": "python3",
      "display_name": "Python 3"
    },
    "language_info": {
      "name": "python"
    }
  },
  "cells": [
    {
      "cell_type": "markdown",
      "source": [
        "# Assignment Topic: MongoDB\n",
        "\n",
        "### Done By: Akshaj Piri"
      ],
      "metadata": {
        "id": "wDGlVKA53j4g"
      }
    },
    {
      "cell_type": "markdown",
      "source": [
        "**Question 1**: What is MongoDB? Explain non-relational databases in short. In which scenarios it is preferred to use MongoDB over SQL databases?"
      ],
      "metadata": {
        "id": "tUqq_MrN3p9T"
      }
    },
    {
      "cell_type": "markdown",
      "source": [
        "MongoDB is a popular open-source document-oriented NoSQL database. It is designed to store, retrieve, and manage large volumes of unstructured or semi-structured data. MongoDB uses a flexible schema that allows for dynamic and nested data structures, making it suitable for handling diverse data types.\n",
        "\n",
        "Non-relational databases, also known as NoSQL databases, are a type of database management system that does not follow the traditional tabular relational model used in SQL databases. Instead, they provide a flexible and scalable approach for storing and retrieving data. Non-relational databases can handle large amounts of data with high performance and horizontal scalability."
      ],
      "metadata": {
        "id": "F-8NLngGUF3Q"
      }
    },
    {
      "cell_type": "markdown",
      "source": [
        "MongoDB is preferred over SQL databases in the following scenarios:\n",
        "\n",
        "1. **Flexibility of Data**: MongoDB's document-oriented model allows for the storage of data in a more flexible and dynamic manner. It can handle unstructured and semi-structured data, making it suitable for scenarios where data formats may vary or evolve over time.\n",
        "\n",
        "2. **Scalability**: MongoDB is designed to scale horizontally by distributing data across multiple servers. It can handle large amounts of data and high traffic loads efficiently, making it well-suited for applications that require scalability.\n",
        "\n",
        "3. **Agile Development**: MongoDB's flexible schema and document-based model make it easier to accommodate changes in data requirements during the development process. It allows for seamless updates and modifications without impacting the overall database structure."
      ],
      "metadata": {
        "id": "dj0IT0oNUMYU"
      }
    },
    {
      "cell_type": "markdown",
      "source": [
        "**Question 2**: State and Explain the features of MongoDB."
      ],
      "metadata": {
        "id": "UggGCJWv32Vd"
      }
    },
    {
      "cell_type": "markdown",
      "source": [
        "MongoDB has several key features that make it a popular choice for handling data in modern applications. Here are some of the prominent features of MongoDB:\n",
        "\n",
        "1. **Flexible Data Model**: MongoDB uses a document-oriented data model, where data is stored in JSON-like documents called BSON (Binary JSON).\n",
        "\n",
        "2. **Scalability and High Performance**: MongoDB is designed to scale horizontally by distributing data across multiple servers or clusters.\n",
        "\n",
        "3. **Indexing and Querying**: MongoDB supports various types of indexes, including single-field, compound, multi-key, and geospatial indexes.\n",
        "\n",
        "4. **Replication and High Availability**: MongoDB supports replica sets, which are self-healing clusters of database nodes.\n",
        "\n",
        "5. **Ad Hoc Queries and Aggregations**: MongoDB offers ad hoc querying, allowing developers to query the database in a flexible and iterative manner. "
      ],
      "metadata": {
        "id": "ddVR5d4RUeLv"
      }
    },
    {
      "cell_type": "markdown",
      "source": [
        "**Question 3**: Write a code to connect MongoDB to Python. Also, create a database and a collection in MongoDB."
      ],
      "metadata": {
        "id": "1ejvEmWp32dV"
      }
    },
    {
      "cell_type": "code",
      "source": [
        "%pip install pymongo"
      ],
      "metadata": {
        "colab": {
          "base_uri": "https://localhost:8080/"
        },
        "id": "7r_mGpixVUnB",
        "outputId": "5642e35b-9e51-4cd2-d936-8b482851e395"
      },
      "execution_count": 2,
      "outputs": [
        {
          "output_type": "stream",
          "name": "stdout",
          "text": [
            "Looking in indexes: https://pypi.org/simple, https://us-python.pkg.dev/colab-wheels/public/simple/\n",
            "Collecting pymongo\n",
            "  Downloading pymongo-4.3.3-cp310-cp310-manylinux_2_17_x86_64.manylinux2014_x86_64.whl (492 kB)\n",
            "\u001b[2K     \u001b[90m━━━━━━━━━━━━━━━━━━━━━━━━━━━━━━━━━━━━━━━\u001b[0m \u001b[32m492.9/492.9 kB\u001b[0m \u001b[31m9.8 MB/s\u001b[0m eta \u001b[36m0:00:00\u001b[0m\n",
            "\u001b[?25hCollecting dnspython<3.0.0,>=1.16.0 (from pymongo)\n",
            "  Downloading dnspython-2.3.0-py3-none-any.whl (283 kB)\n",
            "\u001b[2K     \u001b[90m━━━━━━━━━━━━━━━━━━━━━━━━━━━━━━━━━━━━━━\u001b[0m \u001b[32m283.7/283.7 kB\u001b[0m \u001b[31m16.8 MB/s\u001b[0m eta \u001b[36m0:00:00\u001b[0m\n",
            "\u001b[?25hInstalling collected packages: dnspython, pymongo\n",
            "Successfully installed dnspython-2.3.0 pymongo-4.3.3\n"
          ]
        }
      ]
    },
    {
      "cell_type": "code",
      "source": [
        "import pymongo\n",
        "\n",
        "# Establish a connection to MongoDB\n",
        "client = pymongo.MongoClient(\"mongodb://localhost:27017\")\n",
        "\n",
        "# Create a database\n",
        "database = client[\"mydatabase\"]\n",
        "\n",
        "# Create a collection\n",
        "collection = database[\"mycollection\"]\n",
        "\n",
        "# Perform operations on the collection\n",
        "data = {\"name\": \"John\", \"age\": 30}\n",
        "collection.insert_one(data)"
      ],
      "metadata": {
        "id": "63euDfdu37Do"
      },
      "execution_count": null,
      "outputs": []
    },
    {
      "cell_type": "markdown",
      "source": [
        "**Question 4**: Using the database and the collection created in question number 3, write a code to insert one record, and insert many records. Use the find() and find_one() methods to print the inserted record."
      ],
      "metadata": {
        "id": "2YmJpW-H32hD"
      }
    },
    {
      "cell_type": "code",
      "source": [
        "import pymongo\n",
        "\n",
        "# Establish a connection to MongoDB\n",
        "client = pymongo.MongoClient(\"mongodb://localhost:27017\")\n",
        "\n",
        "# Access the database and collection\n",
        "database = client[\"mydatabase\"]\n",
        "collection = database[\"mycollection\"]\n",
        "\n",
        "# Insert one record\n",
        "data = {\"name\": \"John\", \"age\": 30}\n",
        "inserted_record = collection.insert_one(data)\n",
        "\n",
        "# Insert many records\n",
        "data_list = [\n",
        "    {\"name\": \"Alice\", \"age\": 25},\n",
        "    {\"name\": \"Bob\", \"age\": 35},\n",
        "    {\"name\": \"Carol\", \"age\": 28}\n",
        "]\n",
        "inserted_records = collection.insert_many(data_list)\n",
        "\n",
        "# Find and print the inserted record\n",
        "found_record = collection.find_one({\"_id\": inserted_record.inserted_id})\n",
        "print(\"Inserted Record:\")\n",
        "print(found_record)\n",
        "\n",
        "# Find and print all inserted records\n",
        "found_records = collection.find()\n",
        "print(\"\\nInserted Records:\")\n",
        "for record in found_records:\n",
        "    print(record)"
      ],
      "metadata": {
        "id": "_zlyXstv385X"
      },
      "execution_count": null,
      "outputs": []
    },
    {
      "cell_type": "markdown",
      "source": [
        "**Question 5**: Explain how you can use the find() method to query the MongoDB database. Write a simple code to demonstrate this."
      ],
      "metadata": {
        "id": "RceIbI0J32k1"
      }
    },
    {
      "cell_type": "markdown",
      "source": [
        "The find() method in MongoDB is used to query the database and retrieve documents that match the specified criteria. It allows you to specify filters to narrow down the results based on your requirements."
      ],
      "metadata": {
        "id": "ToQ79VN5Xffq"
      }
    },
    {
      "cell_type": "code",
      "source": [
        "import pymongo\n",
        "\n",
        "# Establish a connection to MongoDB\n",
        "client = pymongo.MongoClient(\"mongodb://localhost:27017\")\n",
        "\n",
        "# Access the database and collection\n",
        "database = client[\"mydatabase\"]\n",
        "collection = database[\"mycollection\"]\n",
        "\n",
        "# Perform a find query\n",
        "query = {\"age\": {\"$gte\": 25}}  # Retrieve documents where \"age\" is greater than or equal to 25\n",
        "results = collection.find(query)\n",
        "\n",
        "# Print the retrieved documents\n",
        "print(\"Matching Documents:\")\n",
        "for document in results:\n",
        "    print(document)"
      ],
      "metadata": {
        "id": "Q86CeiPI39_r"
      },
      "execution_count": null,
      "outputs": []
    },
    {
      "cell_type": "markdown",
      "source": [
        "**Question 6**: Explain the sort() method. Give an example to demonstrate sorting in MongoDB."
      ],
      "metadata": {
        "id": "50tPH05f33WZ"
      }
    },
    {
      "cell_type": "markdown",
      "source": [
        "The sort() method in MongoDB is used to sort the retrieved documents from a collection based on one or more fields. It allows you to specify the sorting order as ascending (1) or descending (-1) for each field.\n"
      ],
      "metadata": {
        "id": "O0yDPTFmX0_U"
      }
    },
    {
      "cell_type": "code",
      "source": [
        "import pymongo\n",
        "\n",
        "# Establish a connection to MongoDB\n",
        "client = pymongo.MongoClient(\"mongodb://localhost:27017\")\n",
        "\n",
        "# Access the database and collection\n",
        "database = client[\"mydatabase\"]\n",
        "collection = database[\"mycollection\"]\n",
        "\n",
        "# Perform a find query with sorting\n",
        "query = {\"age\": {\"$gte\": 25}}  # Retrieve documents where \"age\" is greater than or equal to 25\n",
        "results = collection.find(query).sort(\"age\", -1)  # Sort by \"age\" field in descending order\n",
        "\n",
        "# Print the sorted documents\n",
        "print(\"Sorted Documents:\")\n",
        "for document in results:\n",
        "    print(document)"
      ],
      "metadata": {
        "id": "RWauEGTv4Jnx"
      },
      "execution_count": null,
      "outputs": []
    },
    {
      "cell_type": "markdown",
      "source": [
        "**Question 7**: Explain why delete_one(), delete_many(), and drop() is used."
      ],
      "metadata": {
        "id": "X6MoHwJ333g0"
      }
    },
    {
      "cell_type": "markdown",
      "source": [
        "In MongoDB, the delete_one(), delete_many(), and drop() methods are used to remove documents or collections from a database.\n",
        "\n",
        "1. **delete_one()**:\n",
        "- This method is used to delete a single document that matches the specified criteria.\n",
        "- It accepts a filter query that specifies the criteria for matching the document to be deleted.\n",
        "\n",
        "2. **delete_many()**:\n",
        "- This method is used to delete multiple documents that match the specified criteria.\n",
        "- It accepts a filter query that specifies the criteria for matching the documents to be deleted.\n",
        "\n",
        "3. **drop()**:\n",
        "- This method is used to drop or delete an entire collection from a database.\n",
        "- It permanently removes the collection and all its associated documents."
      ],
      "metadata": {
        "id": "iPaPiZoBYF4Y"
      }
    }
  ]
}