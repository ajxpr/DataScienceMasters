{
  "nbformat": 4,
  "nbformat_minor": 0,
  "metadata": {
    "colab": {
      "provenance": []
    },
    "kernelspec": {
      "name": "python3",
      "display_name": "Python 3"
    },
    "language_info": {
      "name": "python"
    }
  },
  "cells": [
    {
      "cell_type": "markdown",
      "source": [
        "# Assignment Topic: Exception Handling\n",
        "\n",
        "### Done By: Akshaj Piri"
      ],
      "metadata": {
        "id": "wDGlVKA53j4g"
      }
    },
    {
      "cell_type": "markdown",
      "source": [
        "**Question 1**: What is an Exception in python? Write the difference between Exceptions and Syntax errors."
      ],
      "metadata": {
        "id": "tUqq_MrN3p9T"
      }
    },
    {
      "cell_type": "markdown",
      "source": [
        "In Python, an exception is an event that occurs during the execution of a program that disrupts the normal flow of the program's instructions. When an exceptional situation arises, Python raises an exception, which can be caught and handled by the program.\n",
        "\n",
        "Exceptions are different from syntax errors in the following ways:\n",
        "\n",
        "1. Occurrence: Syntax errors occur during the parsing phase of the program, whereas exceptions occur during the runtime of the program.\n",
        "\n",
        "2. Detection: Syntax errors are detected by the Python interpreter when it parses the code and finds a violation of the language syntax rules. Exceptions, on the other hand, are raised explicitly by the program or automatically when an error condition occurs.\n",
        "\n",
        "3. Handling: Syntax errors must be fixed by modifying the code to adhere to the syntax rules of the language. Exceptions can be caught and handled using exception handling mechanisms, such as try-except blocks, to gracefully recover from errors and continue the program execution.\n",
        "\n",
        "4. Impact: Syntax errors prevent the program from running at all since the code cannot be compiled or interpreted correctly. Exceptions, when unhandled, can cause the program to terminate abruptly. However, by handling exceptions, the program can take alternative actions or recover from the error gracefully.\n",
        "\n",
        "5. Examples: Syntax errors include syntax violations like missing colons, incorrect indentation, or undefined variables. Exceptions include situations like division by zero, accessing an index out of range, or attempting to open a non-existent file."
      ],
      "metadata": {
        "id": "7jkWr1yPlVOv"
      }
    },
    {
      "cell_type": "markdown",
      "source": [
        "**Question 2**: What happens when an exception is not handled? Explain with an example."
      ],
      "metadata": {
        "id": "UggGCJWv32Vd"
      }
    },
    {
      "cell_type": "markdown",
      "source": [
        "When an exception is not handled, it propagates up the call stack until it reaches the top-level of the program. If it reaches the top-level without being caught and handled, the program terminates, and an error message is displayed, providing information about the unhandled exception."
      ],
      "metadata": {
        "id": "8aKuX-ghn4ca"
      }
    },
    {
      "cell_type": "code",
      "source": [
        "# Example\n",
        "\n",
        "def divide_numbers(a, b):\n",
        "    result = a / b\n",
        "    return result\n",
        "\n",
        "def perform_calculation():\n",
        "    numerator = 10\n",
        "    denominator = 0\n",
        "    result = divide_numbers(numerator, denominator)\n",
        "    print(\"Result:\", result)"
      ],
      "metadata": {
        "id": "IsgFzfqh35yq"
      },
      "execution_count": 2,
      "outputs": []
    },
    {
      "cell_type": "markdown",
      "source": [
        "**Question 3**: Which Python statements are used to catch and handle exceptions? Explain with an example."
      ],
      "metadata": {
        "id": "1ejvEmWp32dV"
      }
    },
    {
      "cell_type": "markdown",
      "source": [
        "In Python, the try-except statements are used to catch and handle exceptions. The try block contains the code that might raise an exception, and the except block is used to specify the actions to be taken when a specific exception is raised."
      ],
      "metadata": {
        "id": "7W0qIjdQss4d"
      }
    },
    {
      "cell_type": "code",
      "source": [
        "def divide_numbers(a, b):\n",
        "    try:\n",
        "        result = a / b\n",
        "        print(\"Result:\", result)\n",
        "    except ZeroDivisionError:\n",
        "        print(\"Error: Division by zero is not allowed.\")\n",
        "\n",
        "divide_numbers(10, 2)\n",
        "divide_numbers(10, 0)"
      ],
      "metadata": {
        "id": "63euDfdu37Do",
        "colab": {
          "base_uri": "https://localhost:8080/"
        },
        "outputId": "d67d1312-4767-41e1-987c-8384a78d491d"
      },
      "execution_count": 3,
      "outputs": [
        {
          "output_type": "stream",
          "name": "stdout",
          "text": [
            "Result: 5.0\n",
            "Error: Division by zero is not allowed.\n"
          ]
        }
      ]
    },
    {
      "cell_type": "markdown",
      "source": [
        "**Question 4**: Explain with an example:\n",
        "\n",
        "a. try and else\n",
        "\n",
        "b. finally\n",
        "\n",
        "c. raise"
      ],
      "metadata": {
        "id": "2YmJpW-H32hD"
      }
    },
    {
      "cell_type": "markdown",
      "source": [
        "a. **try and else**:\n",
        "\n",
        "The else block in a try-except statement is optional and is executed only if no exception occurs in the try block. It is used to define a block of code that should be executed when the try block completes successfully."
      ],
      "metadata": {
        "id": "_BRuPw_WtDdx"
      }
    },
    {
      "cell_type": "code",
      "source": [
        "def divide_numbers(a, b):\n",
        "    try:\n",
        "        result = a / b\n",
        "    except ZeroDivisionError:\n",
        "        print(\"Error: Division by zero is not allowed.\")\n",
        "    else:\n",
        "        print(\"Result:\", result)\n",
        "\n",
        "divide_numbers(10, 2)"
      ],
      "metadata": {
        "id": "_zlyXstv385X",
        "colab": {
          "base_uri": "https://localhost:8080/"
        },
        "outputId": "d11f610a-011a-4343-b47f-9370f5533188"
      },
      "execution_count": 4,
      "outputs": [
        {
          "output_type": "stream",
          "name": "stdout",
          "text": [
            "Result: 5.0\n"
          ]
        }
      ]
    },
    {
      "cell_type": "markdown",
      "source": [
        "b. **finally**: \n",
        "\n",
        "The finally block in a try-except statement is optional and is executed regardless of whether an exception occurred or not. It is used to define a block of code that should be executed, no matter what, before leaving the try-except statement."
      ],
      "metadata": {
        "id": "Nljr_IlftDho"
      }
    },
    {
      "cell_type": "code",
      "source": [
        "def divide_numbers(a, b):\n",
        "    try:\n",
        "        result = a / b\n",
        "        print(\"Result:\", result)\n",
        "    except ZeroDivisionError:\n",
        "        print(\"Error: Division by zero is not allowed.\")\n",
        "    finally:\n",
        "        print(\"This is the finally block.\")\n",
        "\n",
        "divide_numbers(10, 2)"
      ],
      "metadata": {
        "colab": {
          "base_uri": "https://localhost:8080/"
        },
        "id": "YZJJ1SGUtYYw",
        "outputId": "fdc63526-90d7-46f3-cf57-e451b1c06244"
      },
      "execution_count": 6,
      "outputs": [
        {
          "output_type": "stream",
          "name": "stdout",
          "text": [
            "Result: 5.0\n",
            "This is the finally block.\n"
          ]
        }
      ]
    },
    {
      "cell_type": "markdown",
      "source": [
        "c. **raise**:\n",
        "\n",
        "The raise statement is used to explicitly raise an exception in Python. It allows the programmer to create and raise custom exceptions or propagate existing exceptions."
      ],
      "metadata": {
        "id": "D1CGCQRKtX7T"
      }
    },
    {
      "cell_type": "code",
      "source": [
        "def validate_age(age):\n",
        "    if age < 0:\n",
        "        raise ValueError(\"Age cannot be negative.\")\n",
        "    elif age < 18:\n",
        "        raise ValueError(\"You must be at least 18 years old.\")\n",
        "    else:\n",
        "        print(\"Age is valid.\")\n",
        "\n",
        "try:\n",
        "    validate_age(25)\n",
        "    validate_age(-5)\n",
        "except ValueError as e:\n",
        "    print(e)"
      ],
      "metadata": {
        "colab": {
          "base_uri": "https://localhost:8080/"
        },
        "id": "ObTIrPa1tYSM",
        "outputId": "4e92d958-1790-4b68-8ad6-d40036415f00"
      },
      "execution_count": 7,
      "outputs": [
        {
          "output_type": "stream",
          "name": "stdout",
          "text": [
            "Age is valid.\n",
            "Age cannot be negative.\n"
          ]
        }
      ]
    },
    {
      "cell_type": "markdown",
      "source": [
        "**Question 5**: What are Custom Exceptions in python? Why do we need Custom Exceptions? Explain with an example."
      ],
      "metadata": {
        "id": "RceIbI0J32k1"
      }
    },
    {
      "cell_type": "markdown",
      "source": [
        "Custom exceptions in Python are user-defined exceptions that allow programmers to define their own exception classes. These exceptions can be raised in specific situations to handle unique errors or exceptional conditions in a program.\n",
        "\n",
        "We need custom exceptions to provide more meaningful and specific error handling in our code. By creating custom exceptions, we can communicate the nature of the error more effectively and handle it appropriately based on the context of our program."
      ],
      "metadata": {
        "id": "MJsa3zBaulQ9"
      }
    },
    {
      "cell_type": "code",
      "source": [
        "class InsufficientFundsError(Exception):\n",
        "    pass\n",
        "\n",
        "class BankAccount:\n",
        "    def __init__(self, balance):\n",
        "        self.balance = balance\n",
        "\n",
        "    def withdraw(self, amount):\n",
        "        if amount > self.balance:\n",
        "            raise InsufficientFundsError(\"Insufficient funds in the account.\")\n",
        "        else:\n",
        "            self.balance -= amount\n",
        "            print(f\"Withdrew {amount} from the account. Remaining balance: {self.balance}\")\n",
        "\n",
        "account = BankAccount(1000)\n",
        "\n",
        "try:\n",
        "    account.withdraw(1500)\n",
        "except InsufficientFundsError as e:\n",
        "    print(e)"
      ],
      "metadata": {
        "id": "Q86CeiPI39_r",
        "colab": {
          "base_uri": "https://localhost:8080/"
        },
        "outputId": "2d137992-fb02-4e4d-9c19-7da32698a83f"
      },
      "execution_count": 8,
      "outputs": [
        {
          "output_type": "stream",
          "name": "stdout",
          "text": [
            "Insufficient funds in the account.\n"
          ]
        }
      ]
    },
    {
      "cell_type": "markdown",
      "source": [
        "**Question 6**: Create custom exception class. Use this class to handle\n",
        "an exception."
      ],
      "metadata": {
        "id": "50tPH05f33WZ"
      }
    },
    {
      "cell_type": "code",
      "source": [
        "class CustomException(Exception):\n",
        "    def __init__(self, message):\n",
        "        self.message = message\n",
        "\n",
        "# Example usage\n",
        "def divide_numbers(a, b):\n",
        "    if b == 0:\n",
        "        raise CustomException(\"Cannot divide by zero\")\n",
        "    return a / b\n",
        "\n",
        "try:\n",
        "    result = divide_numbers(10, 0)\n",
        "    print(\"Result:\", result)\n",
        "except CustomException as e:\n",
        "    print(\"Error:\", e.message)"
      ],
      "metadata": {
        "id": "RWauEGTv4Jnx",
        "colab": {
          "base_uri": "https://localhost:8080/"
        },
        "outputId": "d0af875e-0b9c-4c47-8270-a0a6aa05a3d1"
      },
      "execution_count": 9,
      "outputs": [
        {
          "output_type": "stream",
          "name": "stdout",
          "text": [
            "Error: Cannot divide by zero\n"
          ]
        }
      ]
    },
    {
      "cell_type": "code",
      "source": [],
      "metadata": {
        "id": "nA_mkawsu0sC"
      },
      "execution_count": null,
      "outputs": []
    }
  ]
}